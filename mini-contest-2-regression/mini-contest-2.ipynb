{
 "cells": [
  {
   "cell_type": "markdown",
   "metadata": {},
   "source": [
    "# UniNa - Data Mining 20/21 - MiniContest n2\n",
    "## Land Surface Temperature Evaluation from Satellite Data\n",
    "https://www.kaggle.com/c/unina-data-mining-2021-minicontest-n2/overview"
   ]
  },
  {
   "cell_type": "markdown",
   "metadata": {},
   "source": [
    "## 1. Introduction\n",
    "This notebook shows the solution proposed for the second Mini-Contest of the Data Mining course of University of Naples Federico II. \n",
    "\n",
    "The aim of the contest is to determine the Land Surface Temperature (LST) from satellite data. We will use data coming from the National Aeronautics and Space Administration (NASA) Landsat-8 missions.\n",
    "\n",
    "The performance measure to minimize is the **Mean Absolute Error** (MAE)."
   ]
  },
  {
   "cell_type": "markdown",
   "metadata": {},
   "source": [
    "### 1.1. Import relevant modules"
   ]
  },
  {
   "cell_type": "code",
   "execution_count": 1,
   "metadata": {},
   "outputs": [],
   "source": [
    "# Data Analysis\n",
    "import pandas as pd\n",
    "\n",
    "# Data Visualization\n",
    "from matplotlib import pyplot as plt\n",
    "import seaborn as sns\n",
    "\n",
    "# Machine Learning\n",
    "from sklearn.feature_selection import RFE, RFECV\n",
    "from sklearn.model_selection import train_test_split, cross_val_score, GridSearchCV, RepeatedKFold, KFold\n",
    "from sklearn.metrics import mean_absolute_error, make_scorer\n",
    "from sklearn.preprocessing import StandardScaler, MinMaxScaler, PolynomialFeatures\n",
    "from sklearn.tree import DecisionTreeRegressor\n",
    "from sklearn.neighbors import KNeighborsRegressor\n",
    "from sklearn.linear_model import LinearRegression, Ridge\n",
    "from sklearn.svm import SVR\n",
    "from sklearn.decomposition import PCA\n",
    "from sklearn.neural_network import MLPRegressor\n",
    "from sklearn.pipeline import Pipeline\n",
    "\n",
    "# Utilities\n",
    "import numpy as np"
   ]
  },
  {
   "cell_type": "code",
   "execution_count": 2,
   "metadata": {},
   "outputs": [],
   "source": [
    "%config InlineBackend.figure_format = 'retina'"
   ]
  },
  {
   "cell_type": "markdown",
   "metadata": {},
   "source": [
    "### 1.2. Read the dataset"
   ]
  },
  {
   "cell_type": "markdown",
   "metadata": {},
   "source": [
    "#### Training set"
   ]
  },
  {
   "cell_type": "code",
   "execution_count": 3,
   "metadata": {},
   "outputs": [
    {
     "data": {
      "text/html": [
       "<div>\n",
       "<style scoped>\n",
       "    .dataframe tbody tr th:only-of-type {\n",
       "        vertical-align: middle;\n",
       "    }\n",
       "\n",
       "    .dataframe tbody tr th {\n",
       "        vertical-align: top;\n",
       "    }\n",
       "\n",
       "    .dataframe thead th {\n",
       "        text-align: right;\n",
       "    }\n",
       "</style>\n",
       "<table border=\"1\" class=\"dataframe\">\n",
       "  <thead>\n",
       "    <tr style=\"text-align: right;\">\n",
       "      <th></th>\n",
       "      <th>ID</th>\n",
       "      <th>lat</th>\n",
       "      <th>lon</th>\n",
       "      <th>B2</th>\n",
       "      <th>B3</th>\n",
       "      <th>B4</th>\n",
       "      <th>B5</th>\n",
       "      <th>B6</th>\n",
       "      <th>B7</th>\n",
       "      <th>MONTH</th>\n",
       "      <th>LST</th>\n",
       "    </tr>\n",
       "  </thead>\n",
       "  <tbody>\n",
       "    <tr>\n",
       "      <td>0</td>\n",
       "      <td>1.0</td>\n",
       "      <td>-118.886195</td>\n",
       "      <td>34.387831</td>\n",
       "      <td>0.098286</td>\n",
       "      <td>0.123105</td>\n",
       "      <td>0.185289</td>\n",
       "      <td>0.319676</td>\n",
       "      <td>0.374198</td>\n",
       "      <td>0.298471</td>\n",
       "      <td>5</td>\n",
       "      <td>30.45</td>\n",
       "    </tr>\n",
       "    <tr>\n",
       "      <td>1</td>\n",
       "      <td>2.0</td>\n",
       "      <td>-119.142533</td>\n",
       "      <td>33.979111</td>\n",
       "      <td>0.062934</td>\n",
       "      <td>0.034248</td>\n",
       "      <td>0.072786</td>\n",
       "      <td>0.047289</td>\n",
       "      <td>0.029919</td>\n",
       "      <td>0.022151</td>\n",
       "      <td>5</td>\n",
       "      <td>13.45</td>\n",
       "    </tr>\n",
       "    <tr>\n",
       "      <td>2</td>\n",
       "      <td>5.0</td>\n",
       "      <td>-118.239593</td>\n",
       "      <td>34.340886</td>\n",
       "      <td>0.068062</td>\n",
       "      <td>0.088085</td>\n",
       "      <td>0.149781</td>\n",
       "      <td>0.472569</td>\n",
       "      <td>0.275960</td>\n",
       "      <td>0.184450</td>\n",
       "      <td>5</td>\n",
       "      <td>27.25</td>\n",
       "    </tr>\n",
       "    <tr>\n",
       "      <td>3</td>\n",
       "      <td>6.0</td>\n",
       "      <td>-117.723504</td>\n",
       "      <td>33.748967</td>\n",
       "      <td>0.069445</td>\n",
       "      <td>0.067300</td>\n",
       "      <td>0.124280</td>\n",
       "      <td>0.168265</td>\n",
       "      <td>0.309019</td>\n",
       "      <td>0.276433</td>\n",
       "      <td>5</td>\n",
       "      <td>31.45</td>\n",
       "    </tr>\n",
       "    <tr>\n",
       "      <td>4</td>\n",
       "      <td>7.0</td>\n",
       "      <td>-118.741144</td>\n",
       "      <td>34.284916</td>\n",
       "      <td>0.100648</td>\n",
       "      <td>0.122068</td>\n",
       "      <td>0.169877</td>\n",
       "      <td>0.274852</td>\n",
       "      <td>0.237607</td>\n",
       "      <td>0.190891</td>\n",
       "      <td>5</td>\n",
       "      <td>35.85</td>\n",
       "    </tr>\n",
       "  </tbody>\n",
       "</table>\n",
       "</div>"
      ],
      "text/plain": [
       "    ID         lat        lon        B2        B3        B4        B5  \\\n",
       "0  1.0 -118.886195  34.387831  0.098286  0.123105  0.185289  0.319676   \n",
       "1  2.0 -119.142533  33.979111  0.062934  0.034248  0.072786  0.047289   \n",
       "2  5.0 -118.239593  34.340886  0.068062  0.088085  0.149781  0.472569   \n",
       "3  6.0 -117.723504  33.748967  0.069445  0.067300  0.124280  0.168265   \n",
       "4  7.0 -118.741144  34.284916  0.100648  0.122068  0.169877  0.274852   \n",
       "\n",
       "         B6        B7  MONTH    LST  \n",
       "0  0.374198  0.298471      5  30.45  \n",
       "1  0.029919  0.022151      5  13.45  \n",
       "2  0.275960  0.184450      5  27.25  \n",
       "3  0.309019  0.276433      5  31.45  \n",
       "4  0.237607  0.190891      5  35.85  "
      ]
     },
     "execution_count": 3,
     "metadata": {},
     "output_type": "execute_result"
    }
   ],
   "source": [
    "df_train_rough = pd.read_excel('dataset/TrainingSet.xlsx')\n",
    "df_train_rough.head()"
   ]
  },
  {
   "cell_type": "code",
   "execution_count": 4,
   "metadata": {},
   "outputs": [
    {
     "name": "stdout",
     "output_type": "stream",
     "text": [
      "The training set contains 11 columns and 38492 rows.\n"
     ]
    }
   ],
   "source": [
    "print('The training set contains {:d} columns and {:d} rows.'.format(df_train_rough.shape[1], df_train_rough.shape[0]))"
   ]
  },
  {
   "cell_type": "code",
   "execution_count": 5,
   "metadata": {},
   "outputs": [
    {
     "data": {
      "text/plain": [
       "ID       float64\n",
       "lat      float64\n",
       "lon      float64\n",
       "B2       float64\n",
       "B3       float64\n",
       "B4       float64\n",
       "B5       float64\n",
       "B6       float64\n",
       "B7       float64\n",
       "MONTH      int64\n",
       "LST      float64\n",
       "dtype: object"
      ]
     },
     "execution_count": 5,
     "metadata": {},
     "output_type": "execute_result"
    }
   ],
   "source": [
    "df_train_rough.dtypes"
   ]
  },
  {
   "cell_type": "markdown",
   "metadata": {},
   "source": [
    "The dataset contains only numerical features. Let's change the type of ID column from *float64* to *int64*, as required by Kaggle."
   ]
  },
  {
   "cell_type": "code",
   "execution_count": 6,
   "metadata": {},
   "outputs": [],
   "source": [
    "df_train_rough = df_train_rough.astype({'ID': 'int64'})"
   ]
  },
  {
   "cell_type": "code",
   "execution_count": 7,
   "metadata": {},
   "outputs": [
    {
     "data": {
      "text/plain": [
       "ID       0\n",
       "lat      0\n",
       "lon      0\n",
       "B2       0\n",
       "B3       0\n",
       "B4       0\n",
       "B5       0\n",
       "B6       0\n",
       "B7       0\n",
       "MONTH    0\n",
       "LST      0\n",
       "dtype: int64"
      ]
     },
     "execution_count": 7,
     "metadata": {},
     "output_type": "execute_result"
    }
   ],
   "source": [
    "df_train_rough.isnull().sum()"
   ]
  },
  {
   "cell_type": "markdown",
   "metadata": {},
   "source": [
    "There aren't missing values in the training set."
   ]
  },
  {
   "cell_type": "markdown",
   "metadata": {},
   "source": [
    "#### Test set"
   ]
  },
  {
   "cell_type": "code",
   "execution_count": 8,
   "metadata": {},
   "outputs": [
    {
     "data": {
      "text/html": [
       "<div>\n",
       "<style scoped>\n",
       "    .dataframe tbody tr th:only-of-type {\n",
       "        vertical-align: middle;\n",
       "    }\n",
       "\n",
       "    .dataframe tbody tr th {\n",
       "        vertical-align: top;\n",
       "    }\n",
       "\n",
       "    .dataframe thead th {\n",
       "        text-align: right;\n",
       "    }\n",
       "</style>\n",
       "<table border=\"1\" class=\"dataframe\">\n",
       "  <thead>\n",
       "    <tr style=\"text-align: right;\">\n",
       "      <th></th>\n",
       "      <th>ID</th>\n",
       "      <th>lat</th>\n",
       "      <th>lon</th>\n",
       "      <th>B2</th>\n",
       "      <th>B3</th>\n",
       "      <th>B4</th>\n",
       "      <th>B5</th>\n",
       "      <th>B6</th>\n",
       "      <th>B7</th>\n",
       "      <th>MONTH</th>\n",
       "    </tr>\n",
       "  </thead>\n",
       "  <tbody>\n",
       "    <tr>\n",
       "      <td>0</td>\n",
       "      <td>0.0</td>\n",
       "      <td>-117.795834</td>\n",
       "      <td>34.582758</td>\n",
       "      <td>0.147166</td>\n",
       "      <td>0.207798</td>\n",
       "      <td>0.311656</td>\n",
       "      <td>0.398791</td>\n",
       "      <td>0.521087</td>\n",
       "      <td>0.453670</td>\n",
       "      <td>5</td>\n",
       "    </tr>\n",
       "    <tr>\n",
       "      <td>1</td>\n",
       "      <td>3.0</td>\n",
       "      <td>-118.796802</td>\n",
       "      <td>33.891571</td>\n",
       "      <td>0.066897</td>\n",
       "      <td>0.032199</td>\n",
       "      <td>0.070760</td>\n",
       "      <td>0.040257</td>\n",
       "      <td>0.018909</td>\n",
       "      <td>0.011465</td>\n",
       "      <td>5</td>\n",
       "    </tr>\n",
       "    <tr>\n",
       "      <td>2</td>\n",
       "      <td>4.0</td>\n",
       "      <td>-118.589392</td>\n",
       "      <td>34.330183</td>\n",
       "      <td>0.036695</td>\n",
       "      <td>0.047750</td>\n",
       "      <td>0.091988</td>\n",
       "      <td>0.351815</td>\n",
       "      <td>0.207875</td>\n",
       "      <td>0.110462</td>\n",
       "      <td>5</td>\n",
       "    </tr>\n",
       "    <tr>\n",
       "      <td>3</td>\n",
       "      <td>8.0</td>\n",
       "      <td>-118.171579</td>\n",
       "      <td>34.089719</td>\n",
       "      <td>0.129285</td>\n",
       "      <td>0.138377</td>\n",
       "      <td>0.188247</td>\n",
       "      <td>0.265811</td>\n",
       "      <td>0.237913</td>\n",
       "      <td>0.196772</td>\n",
       "      <td>5</td>\n",
       "    </tr>\n",
       "    <tr>\n",
       "      <td>4</td>\n",
       "      <td>12.0</td>\n",
       "      <td>-117.944779</td>\n",
       "      <td>34.579266</td>\n",
       "      <td>0.133184</td>\n",
       "      <td>0.176745</td>\n",
       "      <td>0.258734</td>\n",
       "      <td>0.329934</td>\n",
       "      <td>0.400507</td>\n",
       "      <td>0.365546</td>\n",
       "      <td>5</td>\n",
       "    </tr>\n",
       "  </tbody>\n",
       "</table>\n",
       "</div>"
      ],
      "text/plain": [
       "     ID         lat        lon        B2        B3        B4        B5  \\\n",
       "0   0.0 -117.795834  34.582758  0.147166  0.207798  0.311656  0.398791   \n",
       "1   3.0 -118.796802  33.891571  0.066897  0.032199  0.070760  0.040257   \n",
       "2   4.0 -118.589392  34.330183  0.036695  0.047750  0.091988  0.351815   \n",
       "3   8.0 -118.171579  34.089719  0.129285  0.138377  0.188247  0.265811   \n",
       "4  12.0 -117.944779  34.579266  0.133184  0.176745  0.258734  0.329934   \n",
       "\n",
       "         B6        B7  MONTH  \n",
       "0  0.521087  0.453670      5  \n",
       "1  0.018909  0.011465      5  \n",
       "2  0.207875  0.110462      5  \n",
       "3  0.237913  0.196772      5  \n",
       "4  0.400507  0.365546      5  "
      ]
     },
     "execution_count": 8,
     "metadata": {},
     "output_type": "execute_result"
    }
   ],
   "source": [
    "df_test_rough = pd.read_excel('dataset/TestSet.xlsx')\n",
    "df_test_rough.head()"
   ]
  },
  {
   "cell_type": "code",
   "execution_count": 9,
   "metadata": {},
   "outputs": [
    {
     "name": "stdout",
     "output_type": "stream",
     "text": [
      "The test set contains 10 columns and 19830 rows.\n"
     ]
    }
   ],
   "source": [
    "print('The test set contains {:d} columns and {:d} rows.'.format(df_test_rough.shape[1], df_test_rough.shape[0]))"
   ]
  },
  {
   "cell_type": "code",
   "execution_count": 10,
   "metadata": {},
   "outputs": [
    {
     "data": {
      "text/plain": [
       "ID       float64\n",
       "lat      float64\n",
       "lon      float64\n",
       "B2       float64\n",
       "B3       float64\n",
       "B4       float64\n",
       "B5       float64\n",
       "B6       float64\n",
       "B7       float64\n",
       "MONTH      int64\n",
       "dtype: object"
      ]
     },
     "execution_count": 10,
     "metadata": {},
     "output_type": "execute_result"
    }
   ],
   "source": [
    "df_test_rough.dtypes"
   ]
  },
  {
   "cell_type": "code",
   "execution_count": 11,
   "metadata": {},
   "outputs": [],
   "source": [
    "df_test_rough = df_test_rough.astype({'ID': 'int64'})"
   ]
  },
  {
   "cell_type": "code",
   "execution_count": 12,
   "metadata": {
    "scrolled": true
   },
   "outputs": [
    {
     "data": {
      "text/plain": [
       "ID       0\n",
       "lat      0\n",
       "lon      0\n",
       "B2       0\n",
       "B3       0\n",
       "B4       0\n",
       "B5       0\n",
       "B6       0\n",
       "B7       0\n",
       "MONTH    0\n",
       "dtype: int64"
      ]
     },
     "execution_count": 12,
     "metadata": {},
     "output_type": "execute_result"
    }
   ],
   "source": [
    "df_test_rough.isnull().sum()"
   ]
  },
  {
   "cell_type": "markdown",
   "metadata": {},
   "source": [
    "## 2. Data Analysis\n",
    "The dataset is made up of 11 feature (considering the class attribute of the training set):\n",
    "- **ID**: numeric identifier;\n",
    "- **lat**: latitude of the tile observed by the satellite;\n",
    "- **lon**: longitude of the tile observed by the satellite;\n",
    "- **B2**-**B7**: Landsat-8 spectral band's values of the tile observed by the satellite;\n",
    "- **MONTH**: observation's month;\n",
    "- **LST**: land surface temperature of the tile observed by the satellite;\n",
    "\n",
    "Here wee report more information about the spectral bands available of Landsat-8:\n",
    "\n",
    "| Band | Wavelength ($µm$) | Resolution ($m$)|\n",
    "| :-- | :-- | :-- |\n",
    "| B2 - Blue | 0.450–0.515 | 30 |\n",
    "| B3 - Green | 0.525–0.600 | 30 |\n",
    "| B4 - Red | 0.630–0.680 | 30 |\n",
    "| B5 - Near Infrared (NIR)| 0.845–0.885 | 30 |\n",
    "| B6 - Shortwave Infrared 1 (SWIR1) | 1.560–1.660 | 30 |\n",
    "| B7 - Shortwave Infrared 2 (SWIR2) | 2.100–2.300 | 30 |\n",
    "\n",
    "Now, let's look at some basic descriptive statistics of both training and test set."
   ]
  },
  {
   "cell_type": "code",
   "execution_count": 13,
   "metadata": {},
   "outputs": [
    {
     "data": {
      "text/html": [
       "<div>\n",
       "<style scoped>\n",
       "    .dataframe tbody tr th:only-of-type {\n",
       "        vertical-align: middle;\n",
       "    }\n",
       "\n",
       "    .dataframe tbody tr th {\n",
       "        vertical-align: top;\n",
       "    }\n",
       "\n",
       "    .dataframe thead th {\n",
       "        text-align: right;\n",
       "    }\n",
       "</style>\n",
       "<table border=\"1\" class=\"dataframe\">\n",
       "  <thead>\n",
       "    <tr style=\"text-align: right;\">\n",
       "      <th></th>\n",
       "      <th>ID</th>\n",
       "      <th>lat</th>\n",
       "      <th>lon</th>\n",
       "      <th>B2</th>\n",
       "      <th>B3</th>\n",
       "      <th>B4</th>\n",
       "      <th>B5</th>\n",
       "      <th>B6</th>\n",
       "      <th>B7</th>\n",
       "      <th>MONTH</th>\n",
       "      <th>LST</th>\n",
       "    </tr>\n",
       "  </thead>\n",
       "  <tbody>\n",
       "    <tr>\n",
       "      <td>count</td>\n",
       "      <td>38492.000000</td>\n",
       "      <td>38492.000000</td>\n",
       "      <td>38492.000000</td>\n",
       "      <td>38492.000000</td>\n",
       "      <td>38492.000000</td>\n",
       "      <td>38492.000000</td>\n",
       "      <td>38492.000000</td>\n",
       "      <td>38492.000000</td>\n",
       "      <td>38492.000000</td>\n",
       "      <td>38492.000000</td>\n",
       "      <td>38492.000000</td>\n",
       "    </tr>\n",
       "    <tr>\n",
       "      <td>mean</td>\n",
       "      <td>42494.212200</td>\n",
       "      <td>-118.378554</td>\n",
       "      <td>34.107935</td>\n",
       "      <td>0.094226</td>\n",
       "      <td>0.106873</td>\n",
       "      <td>0.144256</td>\n",
       "      <td>0.258016</td>\n",
       "      <td>0.216044</td>\n",
       "      <td>0.157996</td>\n",
       "      <td>5.284267</td>\n",
       "      <td>27.323543</td>\n",
       "    </tr>\n",
       "    <tr>\n",
       "      <td>std</td>\n",
       "      <td>27820.920229</td>\n",
       "      <td>0.497993</td>\n",
       "      <td>0.242894</td>\n",
       "      <td>0.077390</td>\n",
       "      <td>0.081962</td>\n",
       "      <td>0.095827</td>\n",
       "      <td>0.150356</td>\n",
       "      <td>0.135662</td>\n",
       "      <td>0.106565</td>\n",
       "      <td>3.283815</td>\n",
       "      <td>11.459535</td>\n",
       "    </tr>\n",
       "    <tr>\n",
       "      <td>min</td>\n",
       "      <td>1.000000</td>\n",
       "      <td>-119.406334</td>\n",
       "      <td>33.562429</td>\n",
       "      <td>0.018193</td>\n",
       "      <td>0.018318</td>\n",
       "      <td>0.039256</td>\n",
       "      <td>0.014172</td>\n",
       "      <td>0.001100</td>\n",
       "      <td>0.000670</td>\n",
       "      <td>1.000000</td>\n",
       "      <td>-8.250000</td>\n",
       "    </tr>\n",
       "    <tr>\n",
       "      <td>25%</td>\n",
       "      <td>14527.500000</td>\n",
       "      <td>-118.793200</td>\n",
       "      <td>33.916328</td>\n",
       "      <td>0.057575</td>\n",
       "      <td>0.058739</td>\n",
       "      <td>0.082438</td>\n",
       "      <td>0.175114</td>\n",
       "      <td>0.136359</td>\n",
       "      <td>0.089097</td>\n",
       "      <td>2.000000</td>\n",
       "      <td>17.450000</td>\n",
       "    </tr>\n",
       "    <tr>\n",
       "      <td>50%</td>\n",
       "      <td>53131.500000</td>\n",
       "      <td>-118.319944</td>\n",
       "      <td>34.111520</td>\n",
       "      <td>0.073476</td>\n",
       "      <td>0.090876</td>\n",
       "      <td>0.127297</td>\n",
       "      <td>0.267098</td>\n",
       "      <td>0.217933</td>\n",
       "      <td>0.154235</td>\n",
       "      <td>5.000000</td>\n",
       "      <td>25.450000</td>\n",
       "    </tr>\n",
       "    <tr>\n",
       "      <td>75%</td>\n",
       "      <td>67766.250000</td>\n",
       "      <td>-117.937464</td>\n",
       "      <td>34.300926</td>\n",
       "      <td>0.102374</td>\n",
       "      <td>0.125643</td>\n",
       "      <td>0.174922</td>\n",
       "      <td>0.342374</td>\n",
       "      <td>0.295600</td>\n",
       "      <td>0.215512</td>\n",
       "      <td>8.000000</td>\n",
       "      <td>37.150000</td>\n",
       "    </tr>\n",
       "    <tr>\n",
       "      <td>max</td>\n",
       "      <td>82427.000000</td>\n",
       "      <td>-117.543920</td>\n",
       "      <td>34.651219</td>\n",
       "      <td>0.935374</td>\n",
       "      <td>0.968355</td>\n",
       "      <td>1.096925</td>\n",
       "      <td>1.394706</td>\n",
       "      <td>0.988942</td>\n",
       "      <td>0.813560</td>\n",
       "      <td>12.000000</td>\n",
       "      <td>59.450000</td>\n",
       "    </tr>\n",
       "  </tbody>\n",
       "</table>\n",
       "</div>"
      ],
      "text/plain": [
       "                 ID           lat           lon            B2            B3  \\\n",
       "count  38492.000000  38492.000000  38492.000000  38492.000000  38492.000000   \n",
       "mean   42494.212200   -118.378554     34.107935      0.094226      0.106873   \n",
       "std    27820.920229      0.497993      0.242894      0.077390      0.081962   \n",
       "min        1.000000   -119.406334     33.562429      0.018193      0.018318   \n",
       "25%    14527.500000   -118.793200     33.916328      0.057575      0.058739   \n",
       "50%    53131.500000   -118.319944     34.111520      0.073476      0.090876   \n",
       "75%    67766.250000   -117.937464     34.300926      0.102374      0.125643   \n",
       "max    82427.000000   -117.543920     34.651219      0.935374      0.968355   \n",
       "\n",
       "                 B4            B5            B6            B7         MONTH  \\\n",
       "count  38492.000000  38492.000000  38492.000000  38492.000000  38492.000000   \n",
       "mean       0.144256      0.258016      0.216044      0.157996      5.284267   \n",
       "std        0.095827      0.150356      0.135662      0.106565      3.283815   \n",
       "min        0.039256      0.014172      0.001100      0.000670      1.000000   \n",
       "25%        0.082438      0.175114      0.136359      0.089097      2.000000   \n",
       "50%        0.127297      0.267098      0.217933      0.154235      5.000000   \n",
       "75%        0.174922      0.342374      0.295600      0.215512      8.000000   \n",
       "max        1.096925      1.394706      0.988942      0.813560     12.000000   \n",
       "\n",
       "                LST  \n",
       "count  38492.000000  \n",
       "mean      27.323543  \n",
       "std       11.459535  \n",
       "min       -8.250000  \n",
       "25%       17.450000  \n",
       "50%       25.450000  \n",
       "75%       37.150000  \n",
       "max       59.450000  "
      ]
     },
     "execution_count": 13,
     "metadata": {},
     "output_type": "execute_result"
    }
   ],
   "source": [
    "df_train_rough.describe()"
   ]
  },
  {
   "cell_type": "code",
   "execution_count": 14,
   "metadata": {},
   "outputs": [
    {
     "data": {
      "text/html": [
       "<div>\n",
       "<style scoped>\n",
       "    .dataframe tbody tr th:only-of-type {\n",
       "        vertical-align: middle;\n",
       "    }\n",
       "\n",
       "    .dataframe tbody tr th {\n",
       "        vertical-align: top;\n",
       "    }\n",
       "\n",
       "    .dataframe thead th {\n",
       "        text-align: right;\n",
       "    }\n",
       "</style>\n",
       "<table border=\"1\" class=\"dataframe\">\n",
       "  <thead>\n",
       "    <tr style=\"text-align: right;\">\n",
       "      <th></th>\n",
       "      <th>ID</th>\n",
       "      <th>lat</th>\n",
       "      <th>lon</th>\n",
       "      <th>B2</th>\n",
       "      <th>B3</th>\n",
       "      <th>B4</th>\n",
       "      <th>B5</th>\n",
       "      <th>B6</th>\n",
       "      <th>B7</th>\n",
       "      <th>MONTH</th>\n",
       "    </tr>\n",
       "  </thead>\n",
       "  <tbody>\n",
       "    <tr>\n",
       "      <td>count</td>\n",
       "      <td>19830.000000</td>\n",
       "      <td>19830.000000</td>\n",
       "      <td>19830.000000</td>\n",
       "      <td>19830.000000</td>\n",
       "      <td>19830.000000</td>\n",
       "      <td>19830.000000</td>\n",
       "      <td>19830.000000</td>\n",
       "      <td>19830.000000</td>\n",
       "      <td>19830.000000</td>\n",
       "      <td>19830.000000</td>\n",
       "    </tr>\n",
       "    <tr>\n",
       "      <td>mean</td>\n",
       "      <td>42780.430408</td>\n",
       "      <td>-118.380075</td>\n",
       "      <td>34.108812</td>\n",
       "      <td>0.094000</td>\n",
       "      <td>0.106595</td>\n",
       "      <td>0.143960</td>\n",
       "      <td>0.257576</td>\n",
       "      <td>0.215598</td>\n",
       "      <td>0.157809</td>\n",
       "      <td>5.280535</td>\n",
       "    </tr>\n",
       "    <tr>\n",
       "      <td>std</td>\n",
       "      <td>27806.021604</td>\n",
       "      <td>0.496144</td>\n",
       "      <td>0.242377</td>\n",
       "      <td>0.077296</td>\n",
       "      <td>0.081774</td>\n",
       "      <td>0.095435</td>\n",
       "      <td>0.150276</td>\n",
       "      <td>0.135082</td>\n",
       "      <td>0.106057</td>\n",
       "      <td>3.292691</td>\n",
       "    </tr>\n",
       "    <tr>\n",
       "      <td>min</td>\n",
       "      <td>0.000000</td>\n",
       "      <td>-119.406334</td>\n",
       "      <td>33.562429</td>\n",
       "      <td>0.017324</td>\n",
       "      <td>0.020839</td>\n",
       "      <td>0.039065</td>\n",
       "      <td>0.011418</td>\n",
       "      <td>0.000519</td>\n",
       "      <td>0.001070</td>\n",
       "      <td>1.000000</td>\n",
       "    </tr>\n",
       "    <tr>\n",
       "      <td>25%</td>\n",
       "      <td>14689.250000</td>\n",
       "      <td>-118.801229</td>\n",
       "      <td>33.917414</td>\n",
       "      <td>0.057544</td>\n",
       "      <td>0.058688</td>\n",
       "      <td>0.081980</td>\n",
       "      <td>0.175134</td>\n",
       "      <td>0.135341</td>\n",
       "      <td>0.088539</td>\n",
       "      <td>2.000000</td>\n",
       "    </tr>\n",
       "    <tr>\n",
       "      <td>50%</td>\n",
       "      <td>53534.500000</td>\n",
       "      <td>-118.321006</td>\n",
       "      <td>34.113467</td>\n",
       "      <td>0.073874</td>\n",
       "      <td>0.091025</td>\n",
       "      <td>0.127085</td>\n",
       "      <td>0.266545</td>\n",
       "      <td>0.217299</td>\n",
       "      <td>0.154048</td>\n",
       "      <td>5.000000</td>\n",
       "    </tr>\n",
       "    <tr>\n",
       "      <td>75%</td>\n",
       "      <td>67974.750000</td>\n",
       "      <td>-117.938119</td>\n",
       "      <td>34.302727</td>\n",
       "      <td>0.102355</td>\n",
       "      <td>0.125861</td>\n",
       "      <td>0.175550</td>\n",
       "      <td>0.340650</td>\n",
       "      <td>0.294916</td>\n",
       "      <td>0.216164</td>\n",
       "      <td>8.000000</td>\n",
       "    </tr>\n",
       "    <tr>\n",
       "      <td>max</td>\n",
       "      <td>82426.000000</td>\n",
       "      <td>-117.543920</td>\n",
       "      <td>34.651219</td>\n",
       "      <td>0.966814</td>\n",
       "      <td>1.008822</td>\n",
       "      <td>1.008822</td>\n",
       "      <td>1.140665</td>\n",
       "      <td>0.815582</td>\n",
       "      <td>0.621550</td>\n",
       "      <td>12.000000</td>\n",
       "    </tr>\n",
       "  </tbody>\n",
       "</table>\n",
       "</div>"
      ],
      "text/plain": [
       "                 ID           lat           lon            B2            B3  \\\n",
       "count  19830.000000  19830.000000  19830.000000  19830.000000  19830.000000   \n",
       "mean   42780.430408   -118.380075     34.108812      0.094000      0.106595   \n",
       "std    27806.021604      0.496144      0.242377      0.077296      0.081774   \n",
       "min        0.000000   -119.406334     33.562429      0.017324      0.020839   \n",
       "25%    14689.250000   -118.801229     33.917414      0.057544      0.058688   \n",
       "50%    53534.500000   -118.321006     34.113467      0.073874      0.091025   \n",
       "75%    67974.750000   -117.938119     34.302727      0.102355      0.125861   \n",
       "max    82426.000000   -117.543920     34.651219      0.966814      1.008822   \n",
       "\n",
       "                 B4            B5            B6            B7         MONTH  \n",
       "count  19830.000000  19830.000000  19830.000000  19830.000000  19830.000000  \n",
       "mean       0.143960      0.257576      0.215598      0.157809      5.280535  \n",
       "std        0.095435      0.150276      0.135082      0.106057      3.292691  \n",
       "min        0.039065      0.011418      0.000519      0.001070      1.000000  \n",
       "25%        0.081980      0.175134      0.135341      0.088539      2.000000  \n",
       "50%        0.127085      0.266545      0.217299      0.154048      5.000000  \n",
       "75%        0.175550      0.340650      0.294916      0.216164      8.000000  \n",
       "max        1.008822      1.140665      0.815582      0.621550     12.000000  "
      ]
     },
     "execution_count": 14,
     "metadata": {},
     "output_type": "execute_result"
    }
   ],
   "source": [
    "df_test_rough.describe()"
   ]
  },
  {
   "cell_type": "markdown",
   "metadata": {},
   "source": [
    "It seems that latitude and longitude have been swapped, since latitude in decimal degrees format should range from -90 to +90, whereas longitude from -180 to +180."
   ]
  },
  {
   "cell_type": "code",
   "execution_count": 15,
   "metadata": {},
   "outputs": [],
   "source": [
    "df_train_rough.rename(columns={'lat':'lon', 'lon':'lat'}, inplace=True)\n",
    "df_test_rough.rename(columns={'lat':'lon', 'lon':'lat'}, inplace=True)"
   ]
  },
  {
   "cell_type": "markdown",
   "metadata": {},
   "source": [
    "Now we can plot the distributions of our features."
   ]
  },
  {
   "cell_type": "code",
   "execution_count": 16,
   "metadata": {},
   "outputs": [
    {
     "data": {
      "image/png": "[encoded data removed]",
      "text/plain": [
       "<Figure size 1080x288 with 3 Axes>"
      ]
     },
     "metadata": {
      "image/png": {
       "height": 277,
       "width": 890
      },
      "needs_background": "light"
     },
     "output_type": "display_data"
    },
    {
     "data": {
      "image/png": "[encoded data removed]",
      "text/plain": [
       "<Figure size 1080x288 with 3 Axes>"
      ]
     },
     "metadata": {
      "image/png": {
       "height": 277,
       "width": 890
      },
      "needs_background": "light"
     },
     "output_type": "display_data"
    }
   ],
   "source": [
    "fig, axs = plt.subplots(1, 3, figsize=(15,4))\n",
    "df_train_rough.hist(column=['B2', 'B3', 'B4'], grid=False, ax=axs)\n",
    "plt.suptitle('Training set')\n",
    "plt.show()\n",
    "\n",
    "fig, axs = plt.subplots(1, 3, figsize=(15,4))\n",
    "df_test_rough.hist(column=['B2', 'B3', 'B4'], grid=False, ax=axs)\n",
    "plt.suptitle('Test set')\n",
    "plt.show()"
   ]
  },
  {
   "cell_type": "code",
   "execution_count": 17,
   "metadata": {},
   "outputs": [
    {
     "data": {
      "image/png": "[encoded data removed]",
      "text/plain": [
       "<Figure size 1080x288 with 3 Axes>"
      ]
     },
     "metadata": {
      "image/png": {
       "height": 277,
       "width": 890
      },
      "needs_background": "light"
     },
     "output_type": "display_data"
    },
    {
     "data": {
      "image/png": "[encoded data removed]",
      "text/plain": [
       "<Figure size 1080x288 with 3 Axes>"
      ]
     },
     "metadata": {
      "image/png": {
       "height": 277,
       "width": 884
      },
      "needs_background": "light"
     },
     "output_type": "display_data"
    }
   ],
   "source": [
    "fig, axs = plt.subplots(1, 3, figsize=(15,4))\n",
    "df_train_rough.hist(column=['B5', 'B6', 'B7'], grid=False, ax=axs)\n",
    "plt.suptitle('Training set')\n",
    "plt.show()\n",
    "\n",
    "fig, axs = plt.subplots(1, 3, figsize=(15,4))\n",
    "df_test_rough.hist(column=['B5', 'B6', 'B7'], grid=False, ax=axs)\n",
    "plt.suptitle('Test set')\n",
    "plt.show()"
   ]
  },
  {
   "cell_type": "code",
   "execution_count": 18,
   "metadata": {},
   "outputs": [
    {
     "data": {
      "image/png": "[encoded data removed]",
      "text/plain": [
       "<Figure size 720x288 with 2 Axes>"
      ]
     },
     "metadata": {
      "image/png": {
       "height": 263,
       "width": 605
      },
      "needs_background": "light"
     },
     "output_type": "display_data"
    }
   ],
   "source": [
    "fig, axs = plt.subplots(1, 2, figsize=(10,4))\n",
    "df_train_rough.hist(column=['MONTH'], bins=np.arange(1,14), grid=False, ax=axs[0])\n",
    "df_test_rough.hist(column=['MONTH'], bins=np.arange(1,14), grid=False, ax=axs[1])\n",
    "axs[0].set_title('MONTH - Training set')\n",
    "axs[1].set_title('MONTH - Test set')\n",
    "plt.show()"
   ]
  },
  {
   "cell_type": "markdown",
   "metadata": {},
   "source": [
    "It seems that all features lie in plausible ranges.\n",
    "\n",
    "Finally let's plot class distribution."
   ]
  },
  {
   "cell_type": "code",
   "execution_count": 19,
   "metadata": {},
   "outputs": [
    {
     "data": {
      "image/png": "[encoded data removed]",
      "text/plain": [
       "<Figure size 360x288 with 1 Axes>"
      ]
     },
     "metadata": {
      "image/png": {
       "height": 263,
       "width": 332
      },
      "needs_background": "light"
     },
     "output_type": "display_data"
    }
   ],
   "source": [
    "df_train_rough.hist(column=['LST'], figsize=(5,4), grid=False)\n",
    "plt.show()"
   ]
  },
  {
   "cell_type": "markdown",
   "metadata": {},
   "source": [
    "## 3. Feature engineering\n",
    "Now we can start the feature engineering process, which aims to extract new features from the dataset.\n",
    "\n",
    "Let's consider the whole dataset in this stage."
   ]
  },
  {
   "cell_type": "code",
   "execution_count": 20,
   "metadata": {},
   "outputs": [],
   "source": [
    "df_feature = df_train_rough.append(df_test_rough, ignore_index=True, sort=False)"
   ]
  },
  {
   "cell_type": "markdown",
   "metadata": {},
   "source": [
    "### 3.1. Spectral indices and LST\n",
    "According to the state of the art, some indicators of LST are the so called **normalised difference spectral indices**. The normalised difference spectral index using bands $i$ and $j$ is defined as:<br>\n",
    "<center>$SI_{B_i-B_j} = \\frac{p_j-p_i}{p_j+p_i|}$</center> \n",
    "\n",
    "where $p_j$ and $p_i$ are surface reflectances of bands $i$ and $j$, respectively.\n",
    "\n",
    "Some of these indices are widely used in the literature, such as the $SI_{B_4-B_5}$, which is the well-known NDVI."
   ]
  },
  {
   "cell_type": "code",
   "execution_count": 21,
   "metadata": {},
   "outputs": [],
   "source": [
    "band = ['B2', 'B3', 'B4', 'B5', 'B6', 'B7']\n",
    "for i in range(len(band)-1):\n",
    "    b1 = band[i]\n",
    "    for j in range(i+1, len(band)):\n",
    "        b2 = band[j]\n",
    "        f = 'SI_' + b1 + b2\n",
    "        df_feature[f] = (df_feature[b2]-df_feature[b1])/(df_feature[b2]+df_feature[b1])"
   ]
  },
  {
   "cell_type": "markdown",
   "metadata": {},
   "source": [
    "### 3.2. Spatial pattern of LST\n",
    "Another essential factor for estimation of LST is **emissivity** $\\epsilon$, the efficiency of transmitting thermal energy.\n",
    "An important component of emissivity is the **proportion of vegetation** $P_v$, which can be estimated using NDVI:<br>\n",
    "<center>$P_v = \\frac{NDVI-NDVI_s}{NDVI_v-NDVI_s}$</center> \n",
    "\n",
    "where $NDVI_s$ and $NDVI_v$ represent NDVI values for soil ($0.2$) and vegetation ($0.5$), respectively."
   ]
  },
  {
   "cell_type": "code",
   "execution_count": 22,
   "metadata": {},
   "outputs": [],
   "source": [
    "df_feature['PV'] = np.square((df_feature['SI_B4B5']-0.2)/(0.5-0.2))"
   ]
  },
  {
   "cell_type": "markdown",
   "metadata": {},
   "source": [
    "Emissivity values can be estimated as:<br>\n",
    "<center>\n",
    "$\n",
    "\\begin{equation}\n",
    "\\epsilon =\n",
    "\\begin{cases}\n",
    "0.991 & \\text{if $NDVI < 0$} \\\\\n",
    "0.996 & \\text{if $0 \\le NDVI < 0.2$}\\\\\n",
    "\\epsilon_v P_v + \\epsilon_s (1-P_v) + C_\\lambda \\qquad & \\text{if $0.2 \\le NDVI \\le 0.5$}\\\\\n",
    "0.973 & \\text{if $NDVI > 0.5$}\\\\\n",
    "\\end{cases}\n",
    "\\end{equation}\n",
    "$\n",
    "</center> \n",
    "\n",
    "where $\\epsilon_v$ and $\\epsilon_s$ are the vegetation ($0.973$) and soil ($0.996$) emissivities, respectively, and $C_\\lambda$ represents the surface roughness ($0.005$). "
   ]
  },
  {
   "cell_type": "code",
   "execution_count": 23,
   "metadata": {},
   "outputs": [],
   "source": [
    "df_feature.loc[df_feature.SI_B4B5<0, 'eps'] = 0.991\n",
    "df_feature.loc[(df_feature.SI_B4B5>=0) & (df_feature.SI_B4B5<0.2), 'eps'] = 0.996\n",
    "df_feature.loc[(df_feature.SI_B4B5>=0.2) & (df_feature.SI_B4B5<=0.5), 'eps'] = 0.973 * df_feature.PV + 0.996 * (1-df_feature.PV) + 0.005\n",
    "df_feature.loc[df_feature.SI_B4B5>0.5, 'eps'] = 0.973"
   ]
  },
  {
   "cell_type": "markdown",
   "metadata": {},
   "source": [
    "According to some studies, LST depend on the natural logarithm of emissivity."
   ]
  },
  {
   "cell_type": "code",
   "execution_count": 24,
   "metadata": {},
   "outputs": [],
   "source": [
    "df_feature['eps'] = np.log(df_feature.eps)"
   ]
  },
  {
   "cell_type": "markdown",
   "metadata": {},
   "source": [
    "## 4. Feature selection\n",
    "Before moving forward with the modelling stage, we need to select the best features to use as input to our model.\n",
    "\n",
    "Let'split again the dataset in training and test set."
   ]
  },
  {
   "cell_type": "code",
   "execution_count": 25,
   "metadata": {},
   "outputs": [],
   "source": [
    "df_train = df_feature.dropna(subset=['LST']).copy()"
   ]
  },
  {
   "cell_type": "code",
   "execution_count": 26,
   "metadata": {},
   "outputs": [],
   "source": [
    "df_test = df_feature.loc[df_feature.LST.isna()].copy()"
   ]
  },
  {
   "cell_type": "markdown",
   "metadata": {},
   "source": [
    "### 4.1. Correlation\n",
    "Now we can look at the **correlation matrix** of the training set. The idea is to select features that are strongly correlated to LST and loosely correlated to other features."
   ]
  },
  {
   "cell_type": "code",
   "execution_count": 27,
   "metadata": {},
   "outputs": [
    {
     "data": {
      "text/html": [
       "<div>\n",
       "<style scoped>\n",
       "    .dataframe tbody tr th:only-of-type {\n",
       "        vertical-align: middle;\n",
       "    }\n",
       "\n",
       "    .dataframe tbody tr th {\n",
       "        vertical-align: top;\n",
       "    }\n",
       "\n",
       "    .dataframe thead th {\n",
       "        text-align: right;\n",
       "    }\n",
       "</style>\n",
       "<table border=\"1\" class=\"dataframe\">\n",
       "  <thead>\n",
       "    <tr style=\"text-align: right;\">\n",
       "      <th></th>\n",
       "      <th>ID</th>\n",
       "      <th>lon</th>\n",
       "      <th>lat</th>\n",
       "      <th>B2</th>\n",
       "      <th>B3</th>\n",
       "      <th>B4</th>\n",
       "      <th>B5</th>\n",
       "      <th>B6</th>\n",
       "      <th>B7</th>\n",
       "      <th>MONTH</th>\n",
       "      <th>...</th>\n",
       "      <th>SI_B3B6</th>\n",
       "      <th>SI_B3B7</th>\n",
       "      <th>SI_B4B5</th>\n",
       "      <th>SI_B4B6</th>\n",
       "      <th>SI_B4B7</th>\n",
       "      <th>SI_B5B6</th>\n",
       "      <th>SI_B5B7</th>\n",
       "      <th>SI_B6B7</th>\n",
       "      <th>PV</th>\n",
       "      <th>eps</th>\n",
       "    </tr>\n",
       "  </thead>\n",
       "  <tbody>\n",
       "    <tr>\n",
       "      <td>ID</td>\n",
       "      <td>1.000000</td>\n",
       "      <td>0.008273</td>\n",
       "      <td>-0.024077</td>\n",
       "      <td>-0.166397</td>\n",
       "      <td>-0.165104</td>\n",
       "      <td>-0.170012</td>\n",
       "      <td>-0.180735</td>\n",
       "      <td>-0.121121</td>\n",
       "      <td>-0.122435</td>\n",
       "      <td>0.330246</td>\n",
       "      <td>...</td>\n",
       "      <td>-0.049833</td>\n",
       "      <td>-0.049634</td>\n",
       "      <td>-0.056419</td>\n",
       "      <td>-0.040991</td>\n",
       "      <td>-0.043135</td>\n",
       "      <td>-0.018040</td>\n",
       "      <td>-0.024089</td>\n",
       "      <td>-0.064524</td>\n",
       "      <td>0.032485</td>\n",
       "      <td>0.080774</td>\n",
       "    </tr>\n",
       "    <tr>\n",
       "      <td>lon</td>\n",
       "      <td>0.008273</td>\n",
       "      <td>1.000000</td>\n",
       "      <td>-0.201504</td>\n",
       "      <td>0.057595</td>\n",
       "      <td>0.147151</td>\n",
       "      <td>0.195261</td>\n",
       "      <td>0.277278</td>\n",
       "      <td>0.267438</td>\n",
       "      <td>0.268446</td>\n",
       "      <td>-0.030174</td>\n",
       "      <td>...</td>\n",
       "      <td>0.381503</td>\n",
       "      <td>0.386058</td>\n",
       "      <td>0.355288</td>\n",
       "      <td>0.369609</td>\n",
       "      <td>0.372389</td>\n",
       "      <td>0.265383</td>\n",
       "      <td>0.235319</td>\n",
       "      <td>0.087983</td>\n",
       "      <td>-0.386903</td>\n",
       "      <td>0.058905</td>\n",
       "    </tr>\n",
       "    <tr>\n",
       "      <td>lat</td>\n",
       "      <td>-0.024077</td>\n",
       "      <td>-0.201504</td>\n",
       "      <td>1.000000</td>\n",
       "      <td>-0.081457</td>\n",
       "      <td>0.022144</td>\n",
       "      <td>0.079694</td>\n",
       "      <td>0.253018</td>\n",
       "      <td>0.313832</td>\n",
       "      <td>0.280104</td>\n",
       "      <td>-0.017861</td>\n",
       "      <td>...</td>\n",
       "      <td>0.345402</td>\n",
       "      <td>0.343772</td>\n",
       "      <td>0.302065</td>\n",
       "      <td>0.341436</td>\n",
       "      <td>0.336464</td>\n",
       "      <td>0.250995</td>\n",
       "      <td>0.188854</td>\n",
       "      <td>-0.063524</td>\n",
       "      <td>-0.202221</td>\n",
       "      <td>-0.037866</td>\n",
       "    </tr>\n",
       "    <tr>\n",
       "      <td>B2</td>\n",
       "      <td>-0.166397</td>\n",
       "      <td>0.057595</td>\n",
       "      <td>-0.081457</td>\n",
       "      <td>1.000000</td>\n",
       "      <td>0.970851</td>\n",
       "      <td>0.930832</td>\n",
       "      <td>0.514480</td>\n",
       "      <td>0.546698</td>\n",
       "      <td>0.593817</td>\n",
       "      <td>-0.024880</td>\n",
       "      <td>...</td>\n",
       "      <td>-0.044911</td>\n",
       "      <td>-0.020407</td>\n",
       "      <td>-0.113621</td>\n",
       "      <td>-0.014570</td>\n",
       "      <td>0.022580</td>\n",
       "      <td>0.216382</td>\n",
       "      <td>0.268791</td>\n",
       "      <td>0.298939</td>\n",
       "      <td>-0.286097</td>\n",
       "      <td>0.299103</td>\n",
       "    </tr>\n",
       "    <tr>\n",
       "      <td>B3</td>\n",
       "      <td>-0.165104</td>\n",
       "      <td>0.147151</td>\n",
       "      <td>0.022144</td>\n",
       "      <td>0.970851</td>\n",
       "      <td>1.000000</td>\n",
       "      <td>0.980369</td>\n",
       "      <td>0.650001</td>\n",
       "      <td>0.692528</td>\n",
       "      <td>0.728700</td>\n",
       "      <td>-0.039033</td>\n",
       "      <td>...</td>\n",
       "      <td>0.119427</td>\n",
       "      <td>0.146425</td>\n",
       "      <td>0.040205</td>\n",
       "      <td>0.156826</td>\n",
       "      <td>0.197182</td>\n",
       "      <td>0.339796</td>\n",
       "      <td>0.373363</td>\n",
       "      <td>0.313848</td>\n",
       "      <td>-0.401779</td>\n",
       "      <td>0.291427</td>\n",
       "    </tr>\n",
       "    <tr>\n",
       "      <td>B4</td>\n",
       "      <td>-0.170012</td>\n",
       "      <td>0.195261</td>\n",
       "      <td>0.079694</td>\n",
       "      <td>0.930832</td>\n",
       "      <td>0.980369</td>\n",
       "      <td>1.000000</td>\n",
       "      <td>0.677920</td>\n",
       "      <td>0.775481</td>\n",
       "      <td>0.811934</td>\n",
       "      <td>0.017438</td>\n",
       "      <td>...</td>\n",
       "      <td>0.217571</td>\n",
       "      <td>0.253115</td>\n",
       "      <td>0.083542</td>\n",
       "      <td>0.234565</td>\n",
       "      <td>0.281869</td>\n",
       "      <td>0.446324</td>\n",
       "      <td>0.471533</td>\n",
       "      <td>0.347640</td>\n",
       "      <td>-0.492480</td>\n",
       "      <td>0.345897</td>\n",
       "    </tr>\n",
       "    <tr>\n",
       "      <td>B5</td>\n",
       "      <td>-0.180735</td>\n",
       "      <td>0.277278</td>\n",
       "      <td>0.253018</td>\n",
       "      <td>0.514480</td>\n",
       "      <td>0.650001</td>\n",
       "      <td>0.677920</td>\n",
       "      <td>1.000000</td>\n",
       "      <td>0.840785</td>\n",
       "      <td>0.744895</td>\n",
       "      <td>-0.014916</td>\n",
       "      <td>...</td>\n",
       "      <td>0.639409</td>\n",
       "      <td>0.607675</td>\n",
       "      <td>0.694415</td>\n",
       "      <td>0.684895</td>\n",
       "      <td>0.654187</td>\n",
       "      <td>0.373964</td>\n",
       "      <td>0.261845</td>\n",
       "      <td>-0.103947</td>\n",
       "      <td>-0.423374</td>\n",
       "      <td>-0.212960</td>\n",
       "    </tr>\n",
       "    <tr>\n",
       "      <td>B6</td>\n",
       "      <td>-0.121121</td>\n",
       "      <td>0.267438</td>\n",
       "      <td>0.313832</td>\n",
       "      <td>0.546698</td>\n",
       "      <td>0.692528</td>\n",
       "      <td>0.775481</td>\n",
       "      <td>0.840785</td>\n",
       "      <td>1.000000</td>\n",
       "      <td>0.970634</td>\n",
       "      <td>0.057530</td>\n",
       "      <td>...</td>\n",
       "      <td>0.660295</td>\n",
       "      <td>0.689394</td>\n",
       "      <td>0.500874</td>\n",
       "      <td>0.680783</td>\n",
       "      <td>0.715703</td>\n",
       "      <td>0.697578</td>\n",
       "      <td>0.627929</td>\n",
       "      <td>0.189575</td>\n",
       "      <td>-0.603655</td>\n",
       "      <td>0.139130</td>\n",
       "    </tr>\n",
       "    <tr>\n",
       "      <td>B7</td>\n",
       "      <td>-0.122435</td>\n",
       "      <td>0.268446</td>\n",
       "      <td>0.280104</td>\n",
       "      <td>0.593817</td>\n",
       "      <td>0.728700</td>\n",
       "      <td>0.811934</td>\n",
       "      <td>0.744895</td>\n",
       "      <td>0.970634</td>\n",
       "      <td>1.000000</td>\n",
       "      <td>0.036366</td>\n",
       "      <td>...</td>\n",
       "      <td>0.576575</td>\n",
       "      <td>0.634191</td>\n",
       "      <td>0.370860</td>\n",
       "      <td>0.591797</td>\n",
       "      <td>0.661138</td>\n",
       "      <td>0.728457</td>\n",
       "      <td>0.714911</td>\n",
       "      <td>0.371100</td>\n",
       "      <td>-0.634342</td>\n",
       "      <td>0.276126</td>\n",
       "    </tr>\n",
       "    <tr>\n",
       "      <td>MONTH</td>\n",
       "      <td>0.330246</td>\n",
       "      <td>-0.030174</td>\n",
       "      <td>-0.017861</td>\n",
       "      <td>-0.024880</td>\n",
       "      <td>-0.039033</td>\n",
       "      <td>0.017438</td>\n",
       "      <td>-0.014916</td>\n",
       "      <td>0.057530</td>\n",
       "      <td>0.036366</td>\n",
       "      <td>1.000000</td>\n",
       "      <td>...</td>\n",
       "      <td>0.038617</td>\n",
       "      <td>0.030714</td>\n",
       "      <td>-0.038690</td>\n",
       "      <td>-0.000301</td>\n",
       "      <td>-0.017343</td>\n",
       "      <td>0.049478</td>\n",
       "      <td>0.011737</td>\n",
       "      <td>-0.140593</td>\n",
       "      <td>-0.030542</td>\n",
       "      <td>0.091308</td>\n",
       "    </tr>\n",
       "    <tr>\n",
       "      <td>LST</td>\n",
       "      <td>0.062070</td>\n",
       "      <td>0.294177</td>\n",
       "      <td>-0.022257</td>\n",
       "      <td>0.196643</td>\n",
       "      <td>0.282464</td>\n",
       "      <td>0.376045</td>\n",
       "      <td>0.386361</td>\n",
       "      <td>0.508476</td>\n",
       "      <td>0.509746</td>\n",
       "      <td>0.508716</td>\n",
       "      <td>...</td>\n",
       "      <td>0.414921</td>\n",
       "      <td>0.448891</td>\n",
       "      <td>0.266319</td>\n",
       "      <td>0.398340</td>\n",
       "      <td>0.433175</td>\n",
       "      <td>0.459770</td>\n",
       "      <td>0.437462</td>\n",
       "      <td>0.205801</td>\n",
       "      <td>-0.447202</td>\n",
       "      <td>0.233527</td>\n",
       "    </tr>\n",
       "    <tr>\n",
       "      <td>SI_B2B3</td>\n",
       "      <td>-0.057226</td>\n",
       "      <td>0.421183</td>\n",
       "      <td>0.405183</td>\n",
       "      <td>0.003644</td>\n",
       "      <td>0.219486</td>\n",
       "      <td>0.276966</td>\n",
       "      <td>0.693286</td>\n",
       "      <td>0.653283</td>\n",
       "      <td>0.579710</td>\n",
       "      <td>-0.099051</td>\n",
       "      <td>...</td>\n",
       "      <td>0.812135</td>\n",
       "      <td>0.806093</td>\n",
       "      <td>0.813328</td>\n",
       "      <td>0.855750</td>\n",
       "      <td>0.848554</td>\n",
       "      <td>0.555194</td>\n",
       "      <td>0.440552</td>\n",
       "      <td>0.001941</td>\n",
       "      <td>-0.560499</td>\n",
       "      <td>-0.141550</td>\n",
       "    </tr>\n",
       "    <tr>\n",
       "      <td>SI_B2B4</td>\n",
       "      <td>-0.074615</td>\n",
       "      <td>0.439953</td>\n",
       "      <td>0.428582</td>\n",
       "      <td>-0.135974</td>\n",
       "      <td>0.056286</td>\n",
       "      <td>0.185220</td>\n",
       "      <td>0.573235</td>\n",
       "      <td>0.618549</td>\n",
       "      <td>0.543346</td>\n",
       "      <td>0.064282</td>\n",
       "      <td>...</td>\n",
       "      <td>0.902014</td>\n",
       "      <td>0.898852</td>\n",
       "      <td>0.792732</td>\n",
       "      <td>0.868755</td>\n",
       "      <td>0.858085</td>\n",
       "      <td>0.640321</td>\n",
       "      <td>0.504772</td>\n",
       "      <td>-0.013849</td>\n",
       "      <td>-0.639070</td>\n",
       "      <td>-0.078818</td>\n",
       "    </tr>\n",
       "    <tr>\n",
       "      <td>SI_B2B5</td>\n",
       "      <td>-0.055926</td>\n",
       "      <td>0.411631</td>\n",
       "      <td>0.359597</td>\n",
       "      <td>-0.100043</td>\n",
       "      <td>0.077241</td>\n",
       "      <td>0.154408</td>\n",
       "      <td>0.687865</td>\n",
       "      <td>0.587637</td>\n",
       "      <td>0.479116</td>\n",
       "      <td>-0.004337</td>\n",
       "      <td>...</td>\n",
       "      <td>0.956723</td>\n",
       "      <td>0.920065</td>\n",
       "      <td>0.972566</td>\n",
       "      <td>0.962019</td>\n",
       "      <td>0.920092</td>\n",
       "      <td>0.550165</td>\n",
       "      <td>0.381501</td>\n",
       "      <td>-0.145073</td>\n",
       "      <td>-0.624120</td>\n",
       "      <td>-0.273137</td>\n",
       "    </tr>\n",
       "    <tr>\n",
       "      <td>SI_B2B6</td>\n",
       "      <td>-0.041899</td>\n",
       "      <td>0.407563</td>\n",
       "      <td>0.369691</td>\n",
       "      <td>-0.038414</td>\n",
       "      <td>0.144469</td>\n",
       "      <td>0.237158</td>\n",
       "      <td>0.673269</td>\n",
       "      <td>0.683344</td>\n",
       "      <td>0.599927</td>\n",
       "      <td>0.017527</td>\n",
       "      <td>...</td>\n",
       "      <td>0.989692</td>\n",
       "      <td>0.978937</td>\n",
       "      <td>0.912309</td>\n",
       "      <td>0.991285</td>\n",
       "      <td>0.978213</td>\n",
       "      <td>0.718092</td>\n",
       "      <td>0.567106</td>\n",
       "      <td>0.000982</td>\n",
       "      <td>-0.713540</td>\n",
       "      <td>-0.140964</td>\n",
       "    </tr>\n",
       "    <tr>\n",
       "      <td>SI_B2B7</td>\n",
       "      <td>-0.043208</td>\n",
       "      <td>0.410240</td>\n",
       "      <td>0.373683</td>\n",
       "      <td>-0.027969</td>\n",
       "      <td>0.158694</td>\n",
       "      <td>0.258557</td>\n",
       "      <td>0.651337</td>\n",
       "      <td>0.707039</td>\n",
       "      <td>0.644271</td>\n",
       "      <td>0.011210</td>\n",
       "      <td>...</td>\n",
       "      <td>0.979551</td>\n",
       "      <td>0.987635</td>\n",
       "      <td>0.868876</td>\n",
       "      <td>0.979810</td>\n",
       "      <td>0.987666</td>\n",
       "      <td>0.764514</td>\n",
       "      <td>0.636226</td>\n",
       "      <td>0.095638</td>\n",
       "      <td>-0.735865</td>\n",
       "      <td>-0.076920</td>\n",
       "    </tr>\n",
       "    <tr>\n",
       "      <td>SI_B3B4</td>\n",
       "      <td>-0.046167</td>\n",
       "      <td>0.143536</td>\n",
       "      <td>0.160852</td>\n",
       "      <td>-0.279550</td>\n",
       "      <td>-0.269114</td>\n",
       "      <td>-0.112333</td>\n",
       "      <td>-0.058785</td>\n",
       "      <td>0.101420</td>\n",
       "      <td>0.078152</td>\n",
       "      <td>0.299502</td>\n",
       "      <td>...</td>\n",
       "      <td>0.375265</td>\n",
       "      <td>0.380222</td>\n",
       "      <td>0.160119</td>\n",
       "      <td>0.236250</td>\n",
       "      <td>0.227578</td>\n",
       "      <td>0.298620</td>\n",
       "      <td>0.228391</td>\n",
       "      <td>-0.039737</td>\n",
       "      <td>-0.280410</td>\n",
       "      <td>0.082486</td>\n",
       "    </tr>\n",
       "    <tr>\n",
       "      <td>SI_B3B5</td>\n",
       "      <td>-0.064830</td>\n",
       "      <td>0.367757</td>\n",
       "      <td>0.319867</td>\n",
       "      <td>-0.154070</td>\n",
       "      <td>-0.005142</td>\n",
       "      <td>0.071965</td>\n",
       "      <td>0.643426</td>\n",
       "      <td>0.506493</td>\n",
       "      <td>0.384152</td>\n",
       "      <td>0.027082</td>\n",
       "      <td>...</td>\n",
       "      <td>0.940135</td>\n",
       "      <td>0.889078</td>\n",
       "      <td>0.973724</td>\n",
       "      <td>0.930457</td>\n",
       "      <td>0.872200</td>\n",
       "      <td>0.479665</td>\n",
       "      <td>0.296592</td>\n",
       "      <td>-0.225893</td>\n",
       "      <td>-0.565933</td>\n",
       "      <td>-0.351979</td>\n",
       "    </tr>\n",
       "    <tr>\n",
       "      <td>SI_B3B6</td>\n",
       "      <td>-0.049833</td>\n",
       "      <td>0.381503</td>\n",
       "      <td>0.345402</td>\n",
       "      <td>-0.044911</td>\n",
       "      <td>0.119427</td>\n",
       "      <td>0.217571</td>\n",
       "      <td>0.639409</td>\n",
       "      <td>0.660295</td>\n",
       "      <td>0.576575</td>\n",
       "      <td>0.038617</td>\n",
       "      <td>...</td>\n",
       "      <td>1.000000</td>\n",
       "      <td>0.987717</td>\n",
       "      <td>0.900446</td>\n",
       "      <td>0.987593</td>\n",
       "      <td>0.972740</td>\n",
       "      <td>0.740994</td>\n",
       "      <td>0.585638</td>\n",
       "      <td>0.009502</td>\n",
       "      <td>-0.729280</td>\n",
       "      <td>-0.141436</td>\n",
       "    </tr>\n",
       "    <tr>\n",
       "      <td>SI_B3B7</td>\n",
       "      <td>-0.049634</td>\n",
       "      <td>0.386058</td>\n",
       "      <td>0.343772</td>\n",
       "      <td>-0.020407</td>\n",
       "      <td>0.146425</td>\n",
       "      <td>0.253115</td>\n",
       "      <td>0.607675</td>\n",
       "      <td>0.689394</td>\n",
       "      <td>0.634191</td>\n",
       "      <td>0.030714</td>\n",
       "      <td>...</td>\n",
       "      <td>0.987717</td>\n",
       "      <td>1.000000</td>\n",
       "      <td>0.842426</td>\n",
       "      <td>0.972847</td>\n",
       "      <td>0.985353</td>\n",
       "      <td>0.808716</td>\n",
       "      <td>0.683757</td>\n",
       "      <td>0.142579</td>\n",
       "      <td>-0.772654</td>\n",
       "      <td>-0.046983</td>\n",
       "    </tr>\n",
       "    <tr>\n",
       "      <td>SI_B4B5</td>\n",
       "      <td>-0.056419</td>\n",
       "      <td>0.355288</td>\n",
       "      <td>0.302065</td>\n",
       "      <td>-0.113621</td>\n",
       "      <td>0.040205</td>\n",
       "      <td>0.083542</td>\n",
       "      <td>0.694415</td>\n",
       "      <td>0.500874</td>\n",
       "      <td>0.370860</td>\n",
       "      <td>-0.038690</td>\n",
       "      <td>...</td>\n",
       "      <td>0.900446</td>\n",
       "      <td>0.842426</td>\n",
       "      <td>1.000000</td>\n",
       "      <td>0.924565</td>\n",
       "      <td>0.860027</td>\n",
       "      <td>0.408459</td>\n",
       "      <td>0.225965</td>\n",
       "      <td>-0.264572</td>\n",
       "      <td>-0.501699</td>\n",
       "      <td>-0.427474</td>\n",
       "    </tr>\n",
       "    <tr>\n",
       "      <td>SI_B4B6</td>\n",
       "      <td>-0.040991</td>\n",
       "      <td>0.369609</td>\n",
       "      <td>0.341436</td>\n",
       "      <td>-0.014570</td>\n",
       "      <td>0.156826</td>\n",
       "      <td>0.234565</td>\n",
       "      <td>0.684895</td>\n",
       "      <td>0.680783</td>\n",
       "      <td>0.591797</td>\n",
       "      <td>-0.000301</td>\n",
       "      <td>...</td>\n",
       "      <td>0.987593</td>\n",
       "      <td>0.972847</td>\n",
       "      <td>0.924565</td>\n",
       "      <td>1.000000</td>\n",
       "      <td>0.984050</td>\n",
       "      <td>0.715647</td>\n",
       "      <td>0.559590</td>\n",
       "      <td>-0.011451</td>\n",
       "      <td>-0.696178</td>\n",
       "      <td>-0.182034</td>\n",
       "    </tr>\n",
       "    <tr>\n",
       "      <td>SI_B4B7</td>\n",
       "      <td>-0.043135</td>\n",
       "      <td>0.372389</td>\n",
       "      <td>0.336464</td>\n",
       "      <td>0.022580</td>\n",
       "      <td>0.197182</td>\n",
       "      <td>0.281869</td>\n",
       "      <td>0.654187</td>\n",
       "      <td>0.715703</td>\n",
       "      <td>0.661138</td>\n",
       "      <td>-0.017343</td>\n",
       "      <td>...</td>\n",
       "      <td>0.972740</td>\n",
       "      <td>0.985353</td>\n",
       "      <td>0.860027</td>\n",
       "      <td>0.984050</td>\n",
       "      <td>1.000000</td>\n",
       "      <td>0.794002</td>\n",
       "      <td>0.674386</td>\n",
       "      <td>0.146043</td>\n",
       "      <td>-0.751038</td>\n",
       "      <td>-0.072321</td>\n",
       "    </tr>\n",
       "    <tr>\n",
       "      <td>SI_B5B6</td>\n",
       "      <td>-0.018040</td>\n",
       "      <td>0.265383</td>\n",
       "      <td>0.250995</td>\n",
       "      <td>0.216382</td>\n",
       "      <td>0.339796</td>\n",
       "      <td>0.446324</td>\n",
       "      <td>0.373964</td>\n",
       "      <td>0.697578</td>\n",
       "      <td>0.728457</td>\n",
       "      <td>0.049478</td>\n",
       "      <td>...</td>\n",
       "      <td>0.740994</td>\n",
       "      <td>0.808716</td>\n",
       "      <td>0.408459</td>\n",
       "      <td>0.715647</td>\n",
       "      <td>0.794002</td>\n",
       "      <td>1.000000</td>\n",
       "      <td>0.964115</td>\n",
       "      <td>0.518215</td>\n",
       "      <td>-0.859817</td>\n",
       "      <td>0.388187</td>\n",
       "    </tr>\n",
       "    <tr>\n",
       "      <td>SI_B5B7</td>\n",
       "      <td>-0.024089</td>\n",
       "      <td>0.235319</td>\n",
       "      <td>0.188854</td>\n",
       "      <td>0.268791</td>\n",
       "      <td>0.373363</td>\n",
       "      <td>0.471533</td>\n",
       "      <td>0.261845</td>\n",
       "      <td>0.627929</td>\n",
       "      <td>0.714911</td>\n",
       "      <td>0.011737</td>\n",
       "      <td>...</td>\n",
       "      <td>0.585638</td>\n",
       "      <td>0.683757</td>\n",
       "      <td>0.225965</td>\n",
       "      <td>0.559590</td>\n",
       "      <td>0.674386</td>\n",
       "      <td>0.964115</td>\n",
       "      <td>1.000000</td>\n",
       "      <td>0.713913</td>\n",
       "      <td>-0.828467</td>\n",
       "      <td>0.521675</td>\n",
       "    </tr>\n",
       "    <tr>\n",
       "      <td>SI_B6B7</td>\n",
       "      <td>-0.064524</td>\n",
       "      <td>0.087983</td>\n",
       "      <td>-0.063524</td>\n",
       "      <td>0.298939</td>\n",
       "      <td>0.313848</td>\n",
       "      <td>0.347640</td>\n",
       "      <td>-0.103947</td>\n",
       "      <td>0.189575</td>\n",
       "      <td>0.371100</td>\n",
       "      <td>-0.140593</td>\n",
       "      <td>...</td>\n",
       "      <td>0.009502</td>\n",
       "      <td>0.142579</td>\n",
       "      <td>-0.264572</td>\n",
       "      <td>-0.011451</td>\n",
       "      <td>0.146043</td>\n",
       "      <td>0.518215</td>\n",
       "      <td>0.713913</td>\n",
       "      <td>1.000000</td>\n",
       "      <td>-0.486196</td>\n",
       "      <td>0.620766</td>\n",
       "    </tr>\n",
       "    <tr>\n",
       "      <td>PV</td>\n",
       "      <td>0.032485</td>\n",
       "      <td>-0.386903</td>\n",
       "      <td>-0.202221</td>\n",
       "      <td>-0.286097</td>\n",
       "      <td>-0.401779</td>\n",
       "      <td>-0.492480</td>\n",
       "      <td>-0.423374</td>\n",
       "      <td>-0.603655</td>\n",
       "      <td>-0.634342</td>\n",
       "      <td>-0.030542</td>\n",
       "      <td>...</td>\n",
       "      <td>-0.729280</td>\n",
       "      <td>-0.772654</td>\n",
       "      <td>-0.501699</td>\n",
       "      <td>-0.696178</td>\n",
       "      <td>-0.751038</td>\n",
       "      <td>-0.859817</td>\n",
       "      <td>-0.828467</td>\n",
       "      <td>-0.486196</td>\n",
       "      <td>1.000000</td>\n",
       "      <td>-0.434013</td>\n",
       "    </tr>\n",
       "    <tr>\n",
       "      <td>eps</td>\n",
       "      <td>0.080774</td>\n",
       "      <td>0.058905</td>\n",
       "      <td>-0.037866</td>\n",
       "      <td>0.299103</td>\n",
       "      <td>0.291427</td>\n",
       "      <td>0.345897</td>\n",
       "      <td>-0.212960</td>\n",
       "      <td>0.139130</td>\n",
       "      <td>0.276126</td>\n",
       "      <td>0.091308</td>\n",
       "      <td>...</td>\n",
       "      <td>-0.141436</td>\n",
       "      <td>-0.046983</td>\n",
       "      <td>-0.427474</td>\n",
       "      <td>-0.182034</td>\n",
       "      <td>-0.072321</td>\n",
       "      <td>0.388187</td>\n",
       "      <td>0.521675</td>\n",
       "      <td>0.620766</td>\n",
       "      <td>-0.434013</td>\n",
       "      <td>1.000000</td>\n",
       "    </tr>\n",
       "  </tbody>\n",
       "</table>\n",
       "<p>28 rows × 28 columns</p>\n",
       "</div>"
      ],
      "text/plain": [
       "               ID       lon       lat        B2        B3        B4        B5  \\\n",
       "ID       1.000000  0.008273 -0.024077 -0.166397 -0.165104 -0.170012 -0.180735   \n",
       "lon      0.008273  1.000000 -0.201504  0.057595  0.147151  0.195261  0.277278   \n",
       "lat     -0.024077 -0.201504  1.000000 -0.081457  0.022144  0.079694  0.253018   \n",
       "B2      -0.166397  0.057595 -0.081457  1.000000  0.970851  0.930832  0.514480   \n",
       "B3      -0.165104  0.147151  0.022144  0.970851  1.000000  0.980369  0.650001   \n",
       "B4      -0.170012  0.195261  0.079694  0.930832  0.980369  1.000000  0.677920   \n",
       "B5      -0.180735  0.277278  0.253018  0.514480  0.650001  0.677920  1.000000   \n",
       "B6      -0.121121  0.267438  0.313832  0.546698  0.692528  0.775481  0.840785   \n",
       "B7      -0.122435  0.268446  0.280104  0.593817  0.728700  0.811934  0.744895   \n",
       "MONTH    0.330246 -0.030174 -0.017861 -0.024880 -0.039033  0.017438 -0.014916   \n",
       "LST      0.062070  0.294177 -0.022257  0.196643  0.282464  0.376045  0.386361   \n",
       "SI_B2B3 -0.057226  0.421183  0.405183  0.003644  0.219486  0.276966  0.693286   \n",
       "SI_B2B4 -0.074615  0.439953  0.428582 -0.135974  0.056286  0.185220  0.573235   \n",
       "SI_B2B5 -0.055926  0.411631  0.359597 -0.100043  0.077241  0.154408  0.687865   \n",
       "SI_B2B6 -0.041899  0.407563  0.369691 -0.038414  0.144469  0.237158  0.673269   \n",
       "SI_B2B7 -0.043208  0.410240  0.373683 -0.027969  0.158694  0.258557  0.651337   \n",
       "SI_B3B4 -0.046167  0.143536  0.160852 -0.279550 -0.269114 -0.112333 -0.058785   \n",
       "SI_B3B5 -0.064830  0.367757  0.319867 -0.154070 -0.005142  0.071965  0.643426   \n",
       "SI_B3B6 -0.049833  0.381503  0.345402 -0.044911  0.119427  0.217571  0.639409   \n",
       "SI_B3B7 -0.049634  0.386058  0.343772 -0.020407  0.146425  0.253115  0.607675   \n",
       "SI_B4B5 -0.056419  0.355288  0.302065 -0.113621  0.040205  0.083542  0.694415   \n",
       "SI_B4B6 -0.040991  0.369609  0.341436 -0.014570  0.156826  0.234565  0.684895   \n",
       "SI_B4B7 -0.043135  0.372389  0.336464  0.022580  0.197182  0.281869  0.654187   \n",
       "SI_B5B6 -0.018040  0.265383  0.250995  0.216382  0.339796  0.446324  0.373964   \n",
       "SI_B5B7 -0.024089  0.235319  0.188854  0.268791  0.373363  0.471533  0.261845   \n",
       "SI_B6B7 -0.064524  0.087983 -0.063524  0.298939  0.313848  0.347640 -0.103947   \n",
       "PV       0.032485 -0.386903 -0.202221 -0.286097 -0.401779 -0.492480 -0.423374   \n",
       "eps      0.080774  0.058905 -0.037866  0.299103  0.291427  0.345897 -0.212960   \n",
       "\n",
       "               B6        B7     MONTH  ...   SI_B3B6   SI_B3B7   SI_B4B5  \\\n",
       "ID      -0.121121 -0.122435  0.330246  ... -0.049833 -0.049634 -0.056419   \n",
       "lon      0.267438  0.268446 -0.030174  ...  0.381503  0.386058  0.355288   \n",
       "lat      0.313832  0.280104 -0.017861  ...  0.345402  0.343772  0.302065   \n",
       "B2       0.546698  0.593817 -0.024880  ... -0.044911 -0.020407 -0.113621   \n",
       "B3       0.692528  0.728700 -0.039033  ...  0.119427  0.146425  0.040205   \n",
       "B4       0.775481  0.811934  0.017438  ...  0.217571  0.253115  0.083542   \n",
       "B5       0.840785  0.744895 -0.014916  ...  0.639409  0.607675  0.694415   \n",
       "B6       1.000000  0.970634  0.057530  ...  0.660295  0.689394  0.500874   \n",
       "B7       0.970634  1.000000  0.036366  ...  0.576575  0.634191  0.370860   \n",
       "MONTH    0.057530  0.036366  1.000000  ...  0.038617  0.030714 -0.038690   \n",
       "LST      0.508476  0.509746  0.508716  ...  0.414921  0.448891  0.266319   \n",
       "SI_B2B3  0.653283  0.579710 -0.099051  ...  0.812135  0.806093  0.813328   \n",
       "SI_B2B4  0.618549  0.543346  0.064282  ...  0.902014  0.898852  0.792732   \n",
       "SI_B2B5  0.587637  0.479116 -0.004337  ...  0.956723  0.920065  0.972566   \n",
       "SI_B2B6  0.683344  0.599927  0.017527  ...  0.989692  0.978937  0.912309   \n",
       "SI_B2B7  0.707039  0.644271  0.011210  ...  0.979551  0.987635  0.868876   \n",
       "SI_B3B4  0.101420  0.078152  0.299502  ...  0.375265  0.380222  0.160119   \n",
       "SI_B3B5  0.506493  0.384152  0.027082  ...  0.940135  0.889078  0.973724   \n",
       "SI_B3B6  0.660295  0.576575  0.038617  ...  1.000000  0.987717  0.900446   \n",
       "SI_B3B7  0.689394  0.634191  0.030714  ...  0.987717  1.000000  0.842426   \n",
       "SI_B4B5  0.500874  0.370860 -0.038690  ...  0.900446  0.842426  1.000000   \n",
       "SI_B4B6  0.680783  0.591797 -0.000301  ...  0.987593  0.972847  0.924565   \n",
       "SI_B4B7  0.715703  0.661138 -0.017343  ...  0.972740  0.985353  0.860027   \n",
       "SI_B5B6  0.697578  0.728457  0.049478  ...  0.740994  0.808716  0.408459   \n",
       "SI_B5B7  0.627929  0.714911  0.011737  ...  0.585638  0.683757  0.225965   \n",
       "SI_B6B7  0.189575  0.371100 -0.140593  ...  0.009502  0.142579 -0.264572   \n",
       "PV      -0.603655 -0.634342 -0.030542  ... -0.729280 -0.772654 -0.501699   \n",
       "eps      0.139130  0.276126  0.091308  ... -0.141436 -0.046983 -0.427474   \n",
       "\n",
       "          SI_B4B6   SI_B4B7   SI_B5B6   SI_B5B7   SI_B6B7        PV       eps  \n",
       "ID      -0.040991 -0.043135 -0.018040 -0.024089 -0.064524  0.032485  0.080774  \n",
       "lon      0.369609  0.372389  0.265383  0.235319  0.087983 -0.386903  0.058905  \n",
       "lat      0.341436  0.336464  0.250995  0.188854 -0.063524 -0.202221 -0.037866  \n",
       "B2      -0.014570  0.022580  0.216382  0.268791  0.298939 -0.286097  0.299103  \n",
       "B3       0.156826  0.197182  0.339796  0.373363  0.313848 -0.401779  0.291427  \n",
       "B4       0.234565  0.281869  0.446324  0.471533  0.347640 -0.492480  0.345897  \n",
       "B5       0.684895  0.654187  0.373964  0.261845 -0.103947 -0.423374 -0.212960  \n",
       "B6       0.680783  0.715703  0.697578  0.627929  0.189575 -0.603655  0.139130  \n",
       "B7       0.591797  0.661138  0.728457  0.714911  0.371100 -0.634342  0.276126  \n",
       "MONTH   -0.000301 -0.017343  0.049478  0.011737 -0.140593 -0.030542  0.091308  \n",
       "LST      0.398340  0.433175  0.459770  0.437462  0.205801 -0.447202  0.233527  \n",
       "SI_B2B3  0.855750  0.848554  0.555194  0.440552  0.001941 -0.560499 -0.141550  \n",
       "SI_B2B4  0.868755  0.858085  0.640321  0.504772 -0.013849 -0.639070 -0.078818  \n",
       "SI_B2B5  0.962019  0.920092  0.550165  0.381501 -0.145073 -0.624120 -0.273137  \n",
       "SI_B2B6  0.991285  0.978213  0.718092  0.567106  0.000982 -0.713540 -0.140964  \n",
       "SI_B2B7  0.979810  0.987666  0.764514  0.636226  0.095638 -0.735865 -0.076920  \n",
       "SI_B3B4  0.236250  0.227578  0.298620  0.228391 -0.039737 -0.280410  0.082486  \n",
       "SI_B3B5  0.930457  0.872200  0.479665  0.296592 -0.225893 -0.565933 -0.351979  \n",
       "SI_B3B6  0.987593  0.972740  0.740994  0.585638  0.009502 -0.729280 -0.141436  \n",
       "SI_B3B7  0.972847  0.985353  0.808716  0.683757  0.142579 -0.772654 -0.046983  \n",
       "SI_B4B5  0.924565  0.860027  0.408459  0.225965 -0.264572 -0.501699 -0.427474  \n",
       "SI_B4B6  1.000000  0.984050  0.715647  0.559590 -0.011451 -0.696178 -0.182034  \n",
       "SI_B4B7  0.984050  1.000000  0.794002  0.674386  0.146043 -0.751038 -0.072321  \n",
       "SI_B5B6  0.715647  0.794002  1.000000  0.964115  0.518215 -0.859817  0.388187  \n",
       "SI_B5B7  0.559590  0.674386  0.964115  1.000000  0.713913 -0.828467  0.521675  \n",
       "SI_B6B7 -0.011451  0.146043  0.518215  0.713913  1.000000 -0.486196  0.620766  \n",
       "PV      -0.696178 -0.751038 -0.859817 -0.828467 -0.486196  1.000000 -0.434013  \n",
       "eps     -0.182034 -0.072321  0.388187  0.521675  0.620766 -0.434013  1.000000  \n",
       "\n",
       "[28 rows x 28 columns]"
      ]
     },
     "execution_count": 27,
     "metadata": {},
     "output_type": "execute_result"
    }
   ],
   "source": [
    "df_train.corr()"
   ]
  },
  {
   "cell_type": "markdown",
   "metadata": {},
   "source": [
    "Correlation matrix as it is is not so readable. To make it easier to understand we can plot the related heatmap."
   ]
  },
  {
   "cell_type": "code",
   "execution_count": 28,
   "metadata": {},
   "outputs": [
    {
     "data": {
      "image/png": "[encoded data removed]",
      "text/plain": [
       "<Figure size 720x576 with 2 Axes>"
      ]
     },
     "metadata": {
      "image/png": {
       "height": 500,
       "width": 581
      },
      "needs_background": "light"
     },
     "output_type": "display_data"
    }
   ],
   "source": [
    "fig, ax = plt.subplots(figsize=(10,8))\n",
    "sns.heatmap(df_train.corr().abs(), vmin=0, vmax=1, cmap='Blues', center=0.5, linewidths=.5, ax=ax);\n",
    "plt.show()"
   ]
  },
  {
   "cell_type": "markdown",
   "metadata": {},
   "source": [
    "Observing the heatmap we can draw the following conlcusions:\n",
    "- B2, B3 and B4 are strongly correlated to each other;\n",
    "- B6 and B7 are strongly correlated to each other;\n",
    "- The spectral indeces of the kind $SI_{B_i-B_j}$ are strongly correlated to each other, except for $SI_{B_3-B_4}$, $SI_{B_5-B_6}$, $SI_{B_5-B_7}$ and $SI_{B_6-B_7}$;\n",
    "- The spectral indeces $SI_{B_5-B_6}$ and $SI_{B_5-B_7}$ are strongly correlated to each other.\n",
    "\n",
    "Now let's look closer to correlation between features and LST."
   ]
  },
  {
   "cell_type": "code",
   "execution_count": 29,
   "metadata": {},
   "outputs": [
    {
     "data": {
      "image/png": "[encoded data removed]",
      "text/plain": [
       "<Figure size 144x576 with 2 Axes>"
      ]
     },
     "metadata": {
      "image/png": {
       "height": 465,
       "width": 196
      },
      "needs_background": "light"
     },
     "output_type": "display_data"
    }
   ],
   "source": [
    "fig, ax = plt.subplots(figsize=(2,8))\n",
    "sns.heatmap(df_train.corr().abs()[['LST']].sort_values(by='LST', ascending=False), vmin=0, vmax=1, cmap='Blues', center=0.5, annot=True, linewidths=.5, ax=ax);\n",
    "plt.show()"
   ]
  },
  {
   "cell_type": "markdown",
   "metadata": {},
   "source": [
    "Now, with a better understanding of correlation matrix, we can select some subsets of features that will be evaluated in the next stage."
   ]
  },
  {
   "cell_type": "code",
   "execution_count": 30,
   "metadata": {},
   "outputs": [],
   "source": [
    "basic_features = ['lon', 'lat', 'B2', 'B3', 'B4', 'B5', 'B6', 'B7', 'MONTH']\n",
    "\n",
    "basic_features_and_indeces =  ['lon', 'lat', 'B2', 'B3', 'B4', 'B5', 'B6', 'B7', 'MONTH', \n",
    "                               'SI_B2B3', 'SI_B2B4', 'SI_B2B5', 'SI_B2B6', 'SI_B2B7', 'SI_B3B4', 'SI_B3B5',\n",
    "                               'SI_B3B6', 'SI_B3B7', 'SI_B4B5', 'SI_B4B6', 'SI_B4B7', 'SI_B5B6', 'SI_B5B7', 'SI_B6B7',\n",
    "                               'PV', 'eps']\n",
    "\n",
    "features_and_best_indices = ['lon', 'lat', 'B2', 'B3', 'B4', 'B5', 'B6', 'B7', 'MONTH',\n",
    "                             'SI_B5B6', 'SI_B3B7', 'PV', 'SI_B2B4', 'eps']\n",
    "\n",
    "best_features_and_indeces = ['B7', 'MONTH', 'SI_B5B6', 'SI_B3B7', 'PV', 'SI_B2B4', 'B5', 'B4', 'lon', 'eps']"
   ]
  },
  {
   "cell_type": "markdown",
   "metadata": {},
   "source": [
    "### 4.2. Principal Component Analysis (PCA)\n",
    "Another feature selection technique that can be used for our purpose is **Principal component analysis** (**PCA**), which is the process of computing the principal components and using them to perform a change of basis on the data.\n",
    "\n",
    "**Principal components** of a collection of points are orthogonal direction vectors that constitute an orthonormal basis in which different individual dimensions of the data are linearly uncorrelated.\n",
    "Moreover, principal components are sorted in order of *explained variance* of the data: the first component is the direction that maximizes the variance of the data, the second component is the second direction that maximizes the variance of the data, and so on. \n",
    "\n",
    "PCA is used to project each data point onto only the first few principal components to obtain lower-dimensional data while preserving as much of the data's variation as possible. This process is known as **dimensionality reduction**."
   ]
  },
  {
   "cell_type": "code",
   "execution_count": 31,
   "metadata": {},
   "outputs": [],
   "source": [
    "features =  ['lon', 'lat', 'B2', 'B3', 'B4', 'B5', 'B6', 'B7', 'MONTH', \n",
    "                               'SI_B2B3', 'SI_B2B4', 'SI_B2B5', 'SI_B2B6', 'SI_B2B7', 'SI_B3B4', 'SI_B3B5',\n",
    "                               'SI_B3B6', 'SI_B3B7', 'SI_B4B5', 'SI_B4B6', 'SI_B4B7', 'SI_B5B6', 'SI_B5B7', 'SI_B6B7',\n",
    "                               'PV', 'eps']\n",
    "\n",
    "X = df_train[features].values\n",
    "y = df_train.LST.values\n",
    "\n",
    "scaler = MinMaxScaler().fit(X)\n",
    "X = scaler.transform(X)\n",
    "\n",
    "pca = PCA()\n",
    "princ_comp = pca.fit(X)\n",
    "X_pca = pca.transform(X)\n",
    "\n",
    "# princ_comp.components_"
   ]
  },
  {
   "cell_type": "markdown",
   "metadata": {},
   "source": [
    "Once executed PCA, we can see the variance of the dataset explained by each principal components. The first column of the following dataframe is the absolute value of explained variance, i.e. eigenvalue, whereas the second is the ratio between the variance explained by one component and the total variance of the dataset."
   ]
  },
  {
   "cell_type": "code",
   "execution_count": 32,
   "metadata": {},
   "outputs": [
    {
     "data": {
      "text/html": [
       "<div>\n",
       "<style scoped>\n",
       "    .dataframe tbody tr th:only-of-type {\n",
       "        vertical-align: middle;\n",
       "    }\n",
       "\n",
       "    .dataframe tbody tr th {\n",
       "        vertical-align: top;\n",
       "    }\n",
       "\n",
       "    .dataframe thead th {\n",
       "        text-align: right;\n",
       "    }\n",
       "</style>\n",
       "<table border=\"1\" class=\"dataframe\">\n",
       "  <thead>\n",
       "    <tr style=\"text-align: right;\">\n",
       "      <th></th>\n",
       "      <th>explained variance</th>\n",
       "      <th>explained variance ratio</th>\n",
       "    </tr>\n",
       "  </thead>\n",
       "  <tbody>\n",
       "    <tr>\n",
       "      <td>0</td>\n",
       "      <td>0.586633</td>\n",
       "      <td>0.582787</td>\n",
       "    </tr>\n",
       "    <tr>\n",
       "      <td>1</td>\n",
       "      <td>0.143647</td>\n",
       "      <td>0.142706</td>\n",
       "    </tr>\n",
       "    <tr>\n",
       "      <td>2</td>\n",
       "      <td>0.090522</td>\n",
       "      <td>0.089929</td>\n",
       "    </tr>\n",
       "    <tr>\n",
       "      <td>3</td>\n",
       "      <td>0.073352</td>\n",
       "      <td>0.072871</td>\n",
       "    </tr>\n",
       "    <tr>\n",
       "      <td>4</td>\n",
       "      <td>0.037335</td>\n",
       "      <td>0.037090</td>\n",
       "    </tr>\n",
       "  </tbody>\n",
       "</table>\n",
       "</div>"
      ],
      "text/plain": [
       "   explained variance  explained variance ratio\n",
       "0            0.586633                  0.582787\n",
       "1            0.143647                  0.142706\n",
       "2            0.090522                  0.089929\n",
       "3            0.073352                  0.072871\n",
       "4            0.037335                  0.037090"
      ]
     },
     "execution_count": 32,
     "metadata": {},
     "output_type": "execute_result"
    }
   ],
   "source": [
    "d = {'explained variance': princ_comp.explained_variance_, 'explained variance ratio': princ_comp.explained_variance_ratio_}\n",
    "\n",
    "df_variance_PCA = pd.DataFrame(data=d)\n",
    "df_variance_PCA.head()"
   ]
  },
  {
   "cell_type": "markdown",
   "metadata": {},
   "source": [
    "It can be useful to compute the cumulative explained variance ratio, so that we know how much variance of the data we are preserving, considering only a certain number of principal components"
   ]
  },
  {
   "cell_type": "code",
   "execution_count": 33,
   "metadata": {},
   "outputs": [
    {
     "data": {
      "text/html": [
       "<div>\n",
       "<style scoped>\n",
       "    .dataframe tbody tr th:only-of-type {\n",
       "        vertical-align: middle;\n",
       "    }\n",
       "\n",
       "    .dataframe tbody tr th {\n",
       "        vertical-align: top;\n",
       "    }\n",
       "\n",
       "    .dataframe thead th {\n",
       "        text-align: right;\n",
       "    }\n",
       "</style>\n",
       "<table border=\"1\" class=\"dataframe\">\n",
       "  <thead>\n",
       "    <tr style=\"text-align: right;\">\n",
       "      <th></th>\n",
       "      <th>explained variance</th>\n",
       "      <th>explained variance ratio</th>\n",
       "      <th>cumulative explained variance ratio</th>\n",
       "    </tr>\n",
       "  </thead>\n",
       "  <tbody>\n",
       "    <tr>\n",
       "      <td>0</td>\n",
       "      <td>5.866328e-01</td>\n",
       "      <td>5.827873e-01</td>\n",
       "      <td>0.582787</td>\n",
       "    </tr>\n",
       "    <tr>\n",
       "      <td>1</td>\n",
       "      <td>1.436472e-01</td>\n",
       "      <td>1.427056e-01</td>\n",
       "      <td>0.725493</td>\n",
       "    </tr>\n",
       "    <tr>\n",
       "      <td>2</td>\n",
       "      <td>9.052241e-02</td>\n",
       "      <td>8.992902e-02</td>\n",
       "      <td>0.815422</td>\n",
       "    </tr>\n",
       "    <tr>\n",
       "      <td>3</td>\n",
       "      <td>7.335178e-02</td>\n",
       "      <td>7.287094e-02</td>\n",
       "      <td>0.888293</td>\n",
       "    </tr>\n",
       "    <tr>\n",
       "      <td>4</td>\n",
       "      <td>3.733515e-02</td>\n",
       "      <td>3.709041e-02</td>\n",
       "      <td>0.925383</td>\n",
       "    </tr>\n",
       "    <tr>\n",
       "      <td>5</td>\n",
       "      <td>3.198484e-02</td>\n",
       "      <td>3.177517e-02</td>\n",
       "      <td>0.957158</td>\n",
       "    </tr>\n",
       "    <tr>\n",
       "      <td>6</td>\n",
       "      <td>1.524587e-02</td>\n",
       "      <td>1.514593e-02</td>\n",
       "      <td>0.972304</td>\n",
       "    </tr>\n",
       "    <tr>\n",
       "      <td>7</td>\n",
       "      <td>1.087289e-02</td>\n",
       "      <td>1.080161e-02</td>\n",
       "      <td>0.983106</td>\n",
       "    </tr>\n",
       "    <tr>\n",
       "      <td>8</td>\n",
       "      <td>8.262101e-03</td>\n",
       "      <td>8.207941e-03</td>\n",
       "      <td>0.991314</td>\n",
       "    </tr>\n",
       "    <tr>\n",
       "      <td>9</td>\n",
       "      <td>4.183620e-03</td>\n",
       "      <td>4.156196e-03</td>\n",
       "      <td>0.995470</td>\n",
       "    </tr>\n",
       "    <tr>\n",
       "      <td>10</td>\n",
       "      <td>2.069926e-03</td>\n",
       "      <td>2.056357e-03</td>\n",
       "      <td>0.997527</td>\n",
       "    </tr>\n",
       "    <tr>\n",
       "      <td>11</td>\n",
       "      <td>1.103593e-03</td>\n",
       "      <td>1.096359e-03</td>\n",
       "      <td>0.998623</td>\n",
       "    </tr>\n",
       "    <tr>\n",
       "      <td>12</td>\n",
       "      <td>6.078877e-04</td>\n",
       "      <td>6.039028e-04</td>\n",
       "      <td>0.999227</td>\n",
       "    </tr>\n",
       "    <tr>\n",
       "      <td>13</td>\n",
       "      <td>2.590941e-04</td>\n",
       "      <td>2.573957e-04</td>\n",
       "      <td>0.999484</td>\n",
       "    </tr>\n",
       "    <tr>\n",
       "      <td>14</td>\n",
       "      <td>1.465437e-04</td>\n",
       "      <td>1.455831e-04</td>\n",
       "      <td>0.999630</td>\n",
       "    </tr>\n",
       "    <tr>\n",
       "      <td>15</td>\n",
       "      <td>1.314080e-04</td>\n",
       "      <td>1.305465e-04</td>\n",
       "      <td>0.999760</td>\n",
       "    </tr>\n",
       "    <tr>\n",
       "      <td>16</td>\n",
       "      <td>8.707248e-05</td>\n",
       "      <td>8.650171e-05</td>\n",
       "      <td>0.999847</td>\n",
       "    </tr>\n",
       "    <tr>\n",
       "      <td>17</td>\n",
       "      <td>4.818048e-05</td>\n",
       "      <td>4.786465e-05</td>\n",
       "      <td>0.999895</td>\n",
       "    </tr>\n",
       "    <tr>\n",
       "      <td>18</td>\n",
       "      <td>2.910111e-05</td>\n",
       "      <td>2.891035e-05</td>\n",
       "      <td>0.999924</td>\n",
       "    </tr>\n",
       "    <tr>\n",
       "      <td>19</td>\n",
       "      <td>2.546801e-05</td>\n",
       "      <td>2.530106e-05</td>\n",
       "      <td>0.999949</td>\n",
       "    </tr>\n",
       "    <tr>\n",
       "      <td>20</td>\n",
       "      <td>2.072173e-05</td>\n",
       "      <td>2.058589e-05</td>\n",
       "      <td>0.999969</td>\n",
       "    </tr>\n",
       "    <tr>\n",
       "      <td>21</td>\n",
       "      <td>1.713210e-05</td>\n",
       "      <td>1.701980e-05</td>\n",
       "      <td>0.999986</td>\n",
       "    </tr>\n",
       "    <tr>\n",
       "      <td>22</td>\n",
       "      <td>8.713833e-06</td>\n",
       "      <td>8.656712e-06</td>\n",
       "      <td>0.999995</td>\n",
       "    </tr>\n",
       "    <tr>\n",
       "      <td>23</td>\n",
       "      <td>2.329845e-06</td>\n",
       "      <td>2.314573e-06</td>\n",
       "      <td>0.999997</td>\n",
       "    </tr>\n",
       "    <tr>\n",
       "      <td>24</td>\n",
       "      <td>1.878787e-06</td>\n",
       "      <td>1.866471e-06</td>\n",
       "      <td>0.999999</td>\n",
       "    </tr>\n",
       "    <tr>\n",
       "      <td>25</td>\n",
       "      <td>6.951600e-07</td>\n",
       "      <td>6.906031e-07</td>\n",
       "      <td>1.000000</td>\n",
       "    </tr>\n",
       "  </tbody>\n",
       "</table>\n",
       "</div>"
      ],
      "text/plain": [
       "    explained variance  explained variance ratio  \\\n",
       "0         5.866328e-01              5.827873e-01   \n",
       "1         1.436472e-01              1.427056e-01   \n",
       "2         9.052241e-02              8.992902e-02   \n",
       "3         7.335178e-02              7.287094e-02   \n",
       "4         3.733515e-02              3.709041e-02   \n",
       "5         3.198484e-02              3.177517e-02   \n",
       "6         1.524587e-02              1.514593e-02   \n",
       "7         1.087289e-02              1.080161e-02   \n",
       "8         8.262101e-03              8.207941e-03   \n",
       "9         4.183620e-03              4.156196e-03   \n",
       "10        2.069926e-03              2.056357e-03   \n",
       "11        1.103593e-03              1.096359e-03   \n",
       "12        6.078877e-04              6.039028e-04   \n",
       "13        2.590941e-04              2.573957e-04   \n",
       "14        1.465437e-04              1.455831e-04   \n",
       "15        1.314080e-04              1.305465e-04   \n",
       "16        8.707248e-05              8.650171e-05   \n",
       "17        4.818048e-05              4.786465e-05   \n",
       "18        2.910111e-05              2.891035e-05   \n",
       "19        2.546801e-05              2.530106e-05   \n",
       "20        2.072173e-05              2.058589e-05   \n",
       "21        1.713210e-05              1.701980e-05   \n",
       "22        8.713833e-06              8.656712e-06   \n",
       "23        2.329845e-06              2.314573e-06   \n",
       "24        1.878787e-06              1.866471e-06   \n",
       "25        6.951600e-07              6.906031e-07   \n",
       "\n",
       "    cumulative explained variance ratio  \n",
       "0                              0.582787  \n",
       "1                              0.725493  \n",
       "2                              0.815422  \n",
       "3                              0.888293  \n",
       "4                              0.925383  \n",
       "5                              0.957158  \n",
       "6                              0.972304  \n",
       "7                              0.983106  \n",
       "8                              0.991314  \n",
       "9                              0.995470  \n",
       "10                             0.997527  \n",
       "11                             0.998623  \n",
       "12                             0.999227  \n",
       "13                             0.999484  \n",
       "14                             0.999630  \n",
       "15                             0.999760  \n",
       "16                             0.999847  \n",
       "17                             0.999895  \n",
       "18                             0.999924  \n",
       "19                             0.999949  \n",
       "20                             0.999969  \n",
       "21                             0.999986  \n",
       "22                             0.999995  \n",
       "23                             0.999997  \n",
       "24                             0.999999  \n",
       "25                             1.000000  "
      ]
     },
     "execution_count": 33,
     "metadata": {},
     "output_type": "execute_result"
    }
   ],
   "source": [
    "df_variance_PCA['cumulative explained variance ratio'] = df_variance_PCA.cumsum()['explained variance ratio']\n",
    "df_variance_PCA"
   ]
  },
  {
   "cell_type": "markdown",
   "metadata": {},
   "source": [
    "## 5. Modelling\n",
    "Completed the previous stage, we can start seeking the best model for our regression problem."
   ]
  },
  {
   "cell_type": "markdown",
   "metadata": {},
   "source": [
    "### 5.1. Model selection\n",
    "First of all, we perform model selection. Having a large training set, we can use a simple **holdout** techinique, splitting the training set in training and test set. The former is used to train the model, the latter is used to evaluate his performance. We repeat this process for each model and for each subset of features found in the previous section. Then we choose for a particular model the subset that lead to the best performance. This approach is also called **wrapper method**."
   ]
  },
  {
   "cell_type": "code",
   "execution_count": 34,
   "metadata": {},
   "outputs": [],
   "source": [
    "features_subsets = [basic_features, basic_features_and_indeces, features_and_best_indices, best_features_and_indeces]"
   ]
  },
  {
   "cell_type": "markdown",
   "metadata": {},
   "source": [
    "#### Decision tree"
   ]
  },
  {
   "cell_type": "code",
   "execution_count": 35,
   "metadata": {},
   "outputs": [
    {
     "name": "stdout",
     "output_type": "stream",
     "text": [
      "Features: ['lon', 'lat', 'B2', 'B3', 'B4', 'B5', 'B6', 'B7', 'MONTH']\n",
      "Score on test set:  2.168912365777624\n",
      "------------------------------------------------------------------------------\n",
      "Features: ['lon', 'lat', 'B2', 'B3', 'B4', 'B5', 'B6', 'B7', 'MONTH', 'SI_B2B3', 'SI_B2B4', 'SI_B2B5', 'SI_B2B6', 'SI_B2B7', 'SI_B3B4', 'SI_B3B5', 'SI_B3B6', 'SI_B3B7', 'SI_B4B5', 'SI_B4B6', 'SI_B4B7', 'SI_B5B6', 'SI_B5B7', 'SI_B6B7', 'PV', 'eps']\n",
      "Score on test set:  2.1615006927606513\n",
      "------------------------------------------------------------------------------\n",
      "Features: ['lon', 'lat', 'B2', 'B3', 'B4', 'B5', 'B6', 'B7', 'MONTH', 'SI_B5B6', 'SI_B3B7', 'PV', 'SI_B2B4', 'eps']\n",
      "Score on test set:  2.1988413578108763\n",
      "------------------------------------------------------------------------------\n",
      "Features: ['B7', 'MONTH', 'SI_B5B6', 'SI_B3B7', 'PV', 'SI_B2B4', 'B5', 'B4', 'lon', 'eps']\n",
      "Score on test set:  2.662127641149983\n",
      "------------------------------------------------------------------------------\n"
     ]
    }
   ],
   "source": [
    "for features in features_subsets:\n",
    "    print('Features:', features)\n",
    "    X = df_train[features].values\n",
    "    y = df_train.LST.values\n",
    "\n",
    "    X_train, X_test, y_train, y_test = train_test_split(X, y, test_size=0.3, random_state=42)\n",
    "     \n",
    "    scaler = MinMaxScaler().fit(X_train)\n",
    "    X_train = scaler.transform(X_train)\n",
    "    X_test = scaler.transform(X_test)\n",
    "\n",
    "    reg = DecisionTreeRegressor()\n",
    "    reg.fit(X_train, y_train)\n",
    "    y_pred = reg.predict(X_test)\n",
    "\n",
    "    print('Score on test set: ', mean_absolute_error(y_test, y_pred))\n",
    "    print('------------------------------------------------------------------------------')"
   ]
  },
  {
   "cell_type": "markdown",
   "metadata": {},
   "source": [
    "#### K-Nearest Neighbors (KNN)"
   ]
  },
  {
   "cell_type": "code",
   "execution_count": 36,
   "metadata": {},
   "outputs": [
    {
     "name": "stdout",
     "output_type": "stream",
     "text": [
      "Features: ['lon', 'lat', 'B2', 'B3', 'B4', 'B5', 'B6', 'B7', 'MONTH']\n",
      "Score on test set:  1.580677173536543\n",
      "------------------------------------------------------------------------------\n",
      "Features: ['lon', 'lat', 'B2', 'B3', 'B4', 'B5', 'B6', 'B7', 'MONTH', 'SI_B2B3', 'SI_B2B4', 'SI_B2B5', 'SI_B2B6', 'SI_B2B7', 'SI_B3B4', 'SI_B3B5', 'SI_B3B6', 'SI_B3B7', 'SI_B4B5', 'SI_B4B6', 'SI_B4B7', 'SI_B5B6', 'SI_B5B7', 'SI_B6B7', 'PV', 'eps']\n",
      "Score on test set:  1.8046144786976102\n",
      "------------------------------------------------------------------------------\n",
      "Features: ['lon', 'lat', 'B2', 'B3', 'B4', 'B5', 'B6', 'B7', 'MONTH', 'SI_B5B6', 'SI_B3B7', 'PV', 'SI_B2B4', 'eps']\n",
      "Score on test set:  1.7269367855905786\n",
      "------------------------------------------------------------------------------\n",
      "Features: ['B7', 'MONTH', 'SI_B5B6', 'SI_B3B7', 'PV', 'SI_B2B4', 'B5', 'B4', 'lon', 'eps']\n",
      "Score on test set:  2.025823519224108\n",
      "------------------------------------------------------------------------------\n"
     ]
    }
   ],
   "source": [
    "for features in features_subsets:\n",
    "    print('Features:', features)\n",
    "    X = df_train[features].values\n",
    "    y = df_train.LST.values\n",
    "\n",
    "    X_train, X_test, y_train, y_test = train_test_split(X, y, test_size=0.3, random_state=42)\n",
    "     \n",
    "    scaler = MinMaxScaler().fit(X_train)\n",
    "    X_train = scaler.transform(X_train)\n",
    "    X_test = scaler.transform(X_test)\n",
    "\n",
    "    reg = KNeighborsRegressor()\n",
    "    reg.fit(X_train, y_train)\n",
    "    y_pred = reg.predict(X_test)\n",
    "\n",
    "    print('Score on test set: ', mean_absolute_error(y_test, y_pred))\n",
    "    print('------------------------------------------------------------------------------')"
   ]
  },
  {
   "cell_type": "markdown",
   "metadata": {},
   "source": [
    "#### Linear regression"
   ]
  },
  {
   "cell_type": "code",
   "execution_count": 37,
   "metadata": {},
   "outputs": [
    {
     "name": "stdout",
     "output_type": "stream",
     "text": [
      "Features: ['lon', 'lat', 'B2', 'B3', 'B4', 'B5', 'B6', 'B7', 'MONTH']\n",
      "Score on test set:  5.6762837068552345\n",
      "------------------------------------------------------------------------------\n",
      "Features: ['lon', 'lat', 'B2', 'B3', 'B4', 'B5', 'B6', 'B7', 'MONTH', 'SI_B2B3', 'SI_B2B4', 'SI_B2B5', 'SI_B2B6', 'SI_B2B7', 'SI_B3B4', 'SI_B3B5', 'SI_B3B6', 'SI_B3B7', 'SI_B4B5', 'SI_B4B6', 'SI_B4B7', 'SI_B5B6', 'SI_B5B7', 'SI_B6B7', 'PV', 'eps']\n",
      "Score on test set:  5.126645796930752\n",
      "------------------------------------------------------------------------------\n",
      "Features: ['lon', 'lat', 'B2', 'B3', 'B4', 'B5', 'B6', 'B7', 'MONTH', 'SI_B5B6', 'SI_B3B7', 'PV', 'SI_B2B4', 'eps']\n",
      "Score on test set:  5.5689754309960495\n",
      "------------------------------------------------------------------------------\n",
      "Features: ['B7', 'MONTH', 'SI_B5B6', 'SI_B3B7', 'PV', 'SI_B2B4', 'B5', 'B4', 'lon', 'eps']\n",
      "Score on test set:  5.869266446315997\n",
      "------------------------------------------------------------------------------\n"
     ]
    }
   ],
   "source": [
    "for features in features_subsets:\n",
    "    print('Features:', features)\n",
    "    X = df_train[features].values\n",
    "    y = df_train.LST.values\n",
    "\n",
    "    X_train, X_test, y_train, y_test = train_test_split(X, y, test_size=0.3, random_state=42)\n",
    "     \n",
    "    scaler = MinMaxScaler().fit(X_train)\n",
    "    X_train = scaler.transform(X_train)\n",
    "    X_test = scaler.transform(X_test)\n",
    "\n",
    "    reg = LinearRegression()\n",
    "    reg.fit(X_train, y_train)\n",
    "    y_pred = reg.predict(X_test)\n",
    "\n",
    "    print('Score on test set: ', mean_absolute_error(y_test, y_pred))\n",
    "    print('------------------------------------------------------------------------------')"
   ]
  },
  {
   "cell_type": "markdown",
   "metadata": {},
   "source": [
    "#### Polinomial Regression"
   ]
  },
  {
   "cell_type": "code",
   "execution_count": 38,
   "metadata": {},
   "outputs": [
    {
     "name": "stdout",
     "output_type": "stream",
     "text": [
      "Features: ['lon', 'lat', 'B2', 'B3', 'B4', 'B5', 'B6', 'B7', 'MONTH']\n",
      "Score on test set:  3.9377057107760196\n",
      "------------------------------------------------------------------------------\n",
      "Features: ['lon', 'lat', 'B2', 'B3', 'B4', 'B5', 'B6', 'B7', 'MONTH', 'SI_B2B3', 'SI_B2B4', 'SI_B2B5', 'SI_B2B6', 'SI_B2B7', 'SI_B3B4', 'SI_B3B5', 'SI_B3B6', 'SI_B3B7', 'SI_B4B5', 'SI_B4B6', 'SI_B4B7', 'SI_B5B6', 'SI_B5B7', 'SI_B6B7', 'PV', 'eps']\n",
      "Score on test set:  2.963462088280456\n",
      "------------------------------------------------------------------------------\n",
      "Features: ['lon', 'lat', 'B2', 'B3', 'B4', 'B5', 'B6', 'B7', 'MONTH', 'SI_B5B6', 'SI_B3B7', 'PV', 'SI_B2B4', 'eps']\n",
      "Score on test set:  3.3087455039077893\n",
      "------------------------------------------------------------------------------\n",
      "Features: ['B7', 'MONTH', 'SI_B5B6', 'SI_B3B7', 'PV', 'SI_B2B4', 'B5', 'B4', 'lon', 'eps']\n",
      "Score on test set:  3.876224162321095\n",
      "------------------------------------------------------------------------------\n"
     ]
    }
   ],
   "source": [
    "for features in features_subsets:\n",
    "    print('Features:', features)\n",
    "    X = df_train[features].values\n",
    "    y = df_train.LST.values\n",
    "\n",
    "    X_train, X_test, y_train, y_test = train_test_split(X, y, test_size=0.3, random_state=42)\n",
    "     \n",
    "    scaler = MinMaxScaler().fit(X_train)\n",
    "    X_train = scaler.transform(X_train)\n",
    "    X_test = scaler.transform(X_test)\n",
    "    \n",
    "    pipe = Pipeline([('poly', PolynomialFeatures(2)), ('reg', LinearRegression())])\n",
    "    pipe.fit(X_train, y_train)\n",
    "    y_pred = pipe.predict(X_test)\n",
    "\n",
    "    print('Score on test set: ', mean_absolute_error(y_test, y_pred))\n",
    "    print('------------------------------------------------------------------------------')"
   ]
  },
  {
   "cell_type": "markdown",
   "metadata": {},
   "source": [
    "#### Ridge Regression"
   ]
  },
  {
   "cell_type": "code",
   "execution_count": 39,
   "metadata": {},
   "outputs": [
    {
     "name": "stdout",
     "output_type": "stream",
     "text": [
      "Features: ['lon', 'lat', 'B2', 'B3', 'B4', 'B5', 'B6', 'B7', 'MONTH']\n",
      "Score on test set:  5.6797684831243425\n",
      "------------------------------------------------------------------------------\n",
      "Features: ['lon', 'lat', 'B2', 'B3', 'B4', 'B5', 'B6', 'B7', 'MONTH', 'SI_B2B3', 'SI_B2B4', 'SI_B2B5', 'SI_B2B6', 'SI_B2B7', 'SI_B3B4', 'SI_B3B5', 'SI_B3B6', 'SI_B3B7', 'SI_B4B5', 'SI_B4B6', 'SI_B4B7', 'SI_B5B6', 'SI_B5B7', 'SI_B6B7', 'PV', 'eps']\n",
      "Score on test set:  5.284599390442071\n",
      "------------------------------------------------------------------------------\n",
      "Features: ['lon', 'lat', 'B2', 'B3', 'B4', 'B5', 'B6', 'B7', 'MONTH', 'SI_B5B6', 'SI_B3B7', 'PV', 'SI_B2B4', 'eps']\n",
      "Score on test set:  5.579368259001854\n",
      "------------------------------------------------------------------------------\n",
      "Features: ['B7', 'MONTH', 'SI_B5B6', 'SI_B3B7', 'PV', 'SI_B2B4', 'B5', 'B4', 'lon', 'eps']\n",
      "Score on test set:  5.869772164126891\n",
      "------------------------------------------------------------------------------\n"
     ]
    }
   ],
   "source": [
    "for features in features_subsets:\n",
    "    print('Features:', features)\n",
    "    X = df_train[features].values\n",
    "    y = df_train.LST.values\n",
    "\n",
    "    X_train, X_test, y_train, y_test = train_test_split(X, y, test_size=0.3, random_state=42)\n",
    "     \n",
    "    scaler = MinMaxScaler().fit(X_train)\n",
    "    X_train = scaler.transform(X_train)\n",
    "    X_test = scaler.transform(X_test)\n",
    "\n",
    "    reg = Ridge()\n",
    "    reg.fit(X_train, y_train)\n",
    "    y_pred = reg.predict(X_test)\n",
    "\n",
    "    print('Score on test set: ', mean_absolute_error(y_test, y_pred))\n",
    "    print('------------------------------------------------------------------------------')"
   ]
  },
  {
   "cell_type": "markdown",
   "metadata": {},
   "source": [
    "#### Support Vector Machine (SVM) "
   ]
  },
  {
   "cell_type": "code",
   "execution_count": 40,
   "metadata": {},
   "outputs": [
    {
     "name": "stdout",
     "output_type": "stream",
     "text": [
      "Features: ['lon', 'lat', 'B2', 'B3', 'B4', 'B5', 'B6', 'B7', 'MONTH']\n",
      "Score on test set:  2.547201788595868\n",
      "------------------------------------------------------------------------------\n",
      "Features: ['lon', 'lat', 'B2', 'B3', 'B4', 'B5', 'B6', 'B7', 'MONTH', 'SI_B2B3', 'SI_B2B4', 'SI_B2B5', 'SI_B2B6', 'SI_B2B7', 'SI_B3B4', 'SI_B3B5', 'SI_B3B6', 'SI_B3B7', 'SI_B4B5', 'SI_B4B6', 'SI_B4B7', 'SI_B5B6', 'SI_B5B7', 'SI_B6B7', 'PV', 'eps']\n",
      "Score on test set:  2.8919670652387963\n",
      "------------------------------------------------------------------------------\n",
      "Features: ['lon', 'lat', 'B2', 'B3', 'B4', 'B5', 'B6', 'B7', 'MONTH', 'SI_B5B6', 'SI_B3B7', 'PV', 'SI_B2B4', 'eps']\n",
      "Score on test set:  2.7185920348621786\n",
      "------------------------------------------------------------------------------\n",
      "Features: ['B7', 'MONTH', 'SI_B5B6', 'SI_B3B7', 'PV', 'SI_B2B4', 'B5', 'B4', 'lon', 'eps']\n",
      "Score on test set:  2.9400056670069405\n",
      "------------------------------------------------------------------------------\n"
     ]
    }
   ],
   "source": [
    "for features in features_subsets:\n",
    "    print('Features:', features)\n",
    "    X = df_train[features].values\n",
    "    y = df_train.LST.values\n",
    "\n",
    "    X_train, X_test, y_train, y_test = train_test_split(X, y, test_size=0.3, random_state=42)\n",
    "     \n",
    "    scaler = MinMaxScaler().fit(X_train)\n",
    "    X_train = scaler.transform(X_train)\n",
    "    X_test = scaler.transform(X_test)\n",
    "\n",
    "    reg = SVR()\n",
    "    reg.fit(X_train, y_train)\n",
    "    y_pred = reg.predict(X_test)\n",
    "\n",
    "    print('Score on test set: ', mean_absolute_error(y_test, y_pred))\n",
    "    print('------------------------------------------------------------------------------')"
   ]
  },
  {
   "cell_type": "markdown",
   "metadata": {},
   "source": [
    "#### Multi Layer Perceptron (MLP)"
   ]
  },
  {
   "cell_type": "code",
   "execution_count": 41,
   "metadata": {},
   "outputs": [
    {
     "name": "stdout",
     "output_type": "stream",
     "text": [
      "Features: ['lon', 'lat', 'B2', 'B3', 'B4', 'B5', 'B6', 'B7', 'MONTH']\n"
     ]
    },
    {
     "name": "stderr",
     "output_type": "stream",
     "text": [
      "C:\\Users\\fabio\\Anaconda3\\lib\\site-packages\\sklearn\\neural_network\\_multilayer_perceptron.py:585: ConvergenceWarning: Stochastic Optimizer: Maximum iterations (200) reached and the optimization hasn't converged yet.\n",
      "  % self.max_iter, ConvergenceWarning)\n"
     ]
    },
    {
     "name": "stdout",
     "output_type": "stream",
     "text": [
      "Score on test set:  2.722054103994493\n",
      "------------------------------------------------------------------------------\n",
      "Features: ['lon', 'lat', 'B2', 'B3', 'B4', 'B5', 'B6', 'B7', 'MONTH', 'SI_B2B3', 'SI_B2B4', 'SI_B2B5', 'SI_B2B6', 'SI_B2B7', 'SI_B3B4', 'SI_B3B5', 'SI_B3B6', 'SI_B3B7', 'SI_B4B5', 'SI_B4B6', 'SI_B4B7', 'SI_B5B6', 'SI_B5B7', 'SI_B6B7', 'PV', 'eps']\n"
     ]
    },
    {
     "name": "stderr",
     "output_type": "stream",
     "text": [
      "C:\\Users\\fabio\\Anaconda3\\lib\\site-packages\\sklearn\\neural_network\\_multilayer_perceptron.py:585: ConvergenceWarning: Stochastic Optimizer: Maximum iterations (200) reached and the optimization hasn't converged yet.\n",
      "  % self.max_iter, ConvergenceWarning)\n"
     ]
    },
    {
     "name": "stdout",
     "output_type": "stream",
     "text": [
      "Score on test set:  2.536898295144014\n",
      "------------------------------------------------------------------------------\n",
      "Features: ['lon', 'lat', 'B2', 'B3', 'B4', 'B5', 'B6', 'B7', 'MONTH', 'SI_B5B6', 'SI_B3B7', 'PV', 'SI_B2B4', 'eps']\n"
     ]
    },
    {
     "name": "stderr",
     "output_type": "stream",
     "text": [
      "C:\\Users\\fabio\\Anaconda3\\lib\\site-packages\\sklearn\\neural_network\\_multilayer_perceptron.py:585: ConvergenceWarning: Stochastic Optimizer: Maximum iterations (200) reached and the optimization hasn't converged yet.\n",
      "  % self.max_iter, ConvergenceWarning)\n"
     ]
    },
    {
     "name": "stdout",
     "output_type": "stream",
     "text": [
      "Score on test set:  2.5881978680850595\n",
      "------------------------------------------------------------------------------\n",
      "Features: ['B7', 'MONTH', 'SI_B5B6', 'SI_B3B7', 'PV', 'SI_B2B4', 'B5', 'B4', 'lon', 'eps']\n",
      "Score on test set:  2.8930662350838565\n",
      "------------------------------------------------------------------------------\n"
     ]
    },
    {
     "name": "stderr",
     "output_type": "stream",
     "text": [
      "C:\\Users\\fabio\\Anaconda3\\lib\\site-packages\\sklearn\\neural_network\\_multilayer_perceptron.py:585: ConvergenceWarning: Stochastic Optimizer: Maximum iterations (200) reached and the optimization hasn't converged yet.\n",
      "  % self.max_iter, ConvergenceWarning)\n"
     ]
    }
   ],
   "source": [
    "for features in features_subsets:\n",
    "    print('Features:', features)\n",
    "    X = df_train[features].values\n",
    "    y = df_train.LST.values\n",
    "\n",
    "    X_train, X_test, y_train, y_test = train_test_split(X, y, test_size=0.3, random_state=42)\n",
    "     \n",
    "    scaler = MinMaxScaler().fit(X_train)\n",
    "    X_train = scaler.transform(X_train)\n",
    "    X_test = scaler.transform(X_test)\n",
    "\n",
    "    reg = MLPRegressor()\n",
    "    reg.fit(X_train, y_train)\n",
    "    y_pred = reg.predict(X_test)\n",
    "\n",
    "    print('Score on test set: ', mean_absolute_error(y_test, y_pred))\n",
    "    print('------------------------------------------------------------------------------')"
   ]
  },
  {
   "cell_type": "markdown",
   "metadata": {},
   "source": [
    "We might reason that KNN is the most appropriate for our problem.\n",
    "However, we didn't consider that some of the previous model can gain better performance with a proper hyperparameters selection. \n",
    "For this reason we decide to continue our analysis with the following models: decision tree, KNN, SVM and MLP. On the other hand, we can discard linear, polynomial and ridge regression."
   ]
  },
  {
   "cell_type": "markdown",
   "metadata": {},
   "source": [
    "### 5.2. Hyperparameters tuning\n",
    "The next step is tuning hyperparameters of the models that survived model selection. To do so, we use a technique called **grid search cross validation**, which is a brute-force search through a specified subset of the hyperparameter space. Basically it performs a k fold cross validation for every possible combination of the hyperparamters specified. Depending on the model, we set k equals to 2 or 10.\n",
    "\n",
    "Moreover, we consider feature scaling and feature projection as part of the tuning process. Therfore, hyperparameters tuning is performed on a *pipeline* made of by a scaler, a projector (optional) and a regressor."
   ]
  },
  {
   "cell_type": "markdown",
   "metadata": {},
   "source": [
    "#### Decision Tree"
   ]
  },
  {
   "cell_type": "code",
   "execution_count": 42,
   "metadata": {},
   "outputs": [
    {
     "name": "stderr",
     "output_type": "stream",
     "text": [
      "[Parallel(n_jobs=-1)]: Using backend LokyBackend with 8 concurrent workers.\n"
     ]
    },
    {
     "name": "stdout",
     "output_type": "stream",
     "text": [
      "Grid Search Cross Validation\n",
      "Fitting 10 folds for each of 1188 candidates, totalling 11880 fits\n"
     ]
    },
    {
     "name": "stderr",
     "output_type": "stream",
     "text": [
      "[Parallel(n_jobs=-1)]: Done  34 tasks      | elapsed:    5.0s\n",
      "[Parallel(n_jobs=-1)]: Done 184 tasks      | elapsed:   19.1s\n",
      "[Parallel(n_jobs=-1)]: Done 434 tasks      | elapsed:   48.0s\n",
      "[Parallel(n_jobs=-1)]: Done 784 tasks      | elapsed:  1.5min\n",
      "[Parallel(n_jobs=-1)]: Done 1234 tasks      | elapsed:  2.4min\n",
      "[Parallel(n_jobs=-1)]: Done 1784 tasks      | elapsed:  3.5min\n",
      "[Parallel(n_jobs=-1)]: Done 2434 tasks      | elapsed:  4.9min\n",
      "[Parallel(n_jobs=-1)]: Done 3184 tasks      | elapsed:  6.5min\n",
      "[Parallel(n_jobs=-1)]: Done 4034 tasks      | elapsed:  8.0min\n",
      "[Parallel(n_jobs=-1)]: Done 4984 tasks      | elapsed:  9.3min\n",
      "[Parallel(n_jobs=-1)]: Done 6034 tasks      | elapsed: 10.4min\n",
      "[Parallel(n_jobs=-1)]: Done 7184 tasks      | elapsed: 11.6min\n",
      "[Parallel(n_jobs=-1)]: Done 8434 tasks      | elapsed: 12.9min\n",
      "[Parallel(n_jobs=-1)]: Done 9784 tasks      | elapsed: 14.4min\n",
      "[Parallel(n_jobs=-1)]: Done 11234 tasks      | elapsed: 16.2min\n",
      "[Parallel(n_jobs=-1)]: Done 11880 out of 11880 | elapsed: 17.0min finished\n"
     ]
    },
    {
     "name": "stdout",
     "output_type": "stream",
     "text": [
      "Best score: -1.8192240838542524\n",
      "Best parameters: {'projection': 'passthrough', 'reg__criterion': 'mse', 'reg__max_depth': 18, 'reg__min_samples_leaf': 10, 'reg__min_samples_split': 30, 'reg__random_state': 42, 'reg__splitter': 'best', 'scaler': MinMaxScaler()}\n"
     ]
    }
   ],
   "source": [
    "features = basic_features\n",
    "X = df_train[features].values\n",
    "y = df_train.LST.values\n",
    "    \n",
    "print('Grid Search Cross Validation')\n",
    "pipe = Pipeline([('scaler', MinMaxScaler()), ('projection', PCA()), ('reg',  DecisionTreeRegressor())])\n",
    "parameters = {'scaler':[MinMaxScaler()], 'projection':['passthrough', PCA(6), PCA()], 'reg__criterion':['mse'], 'reg__splitter':['best'],\n",
    "              'reg__max_depth':range(10,22,2), 'reg__min_samples_split':range(10,32,2), \n",
    "              'reg__min_samples_leaf':range(10,22,2), 'reg__random_state':[42]}\n",
    "cv = KFold(n_splits=10, shuffle=True, random_state=42)\n",
    "\n",
    "clf = GridSearchCV(estimator=pipe, param_grid=parameters, scoring=make_scorer(mean_absolute_error, greater_is_better=False), cv=cv, verbose=True, n_jobs=-1)\n",
    "clf.fit(X, y)\n",
    "print('Best score:', clf.best_score_)\n",
    "print('Best parameters:', clf.best_params_)\n",
    "\n",
    "best_tree = clf.best_estimator_"
   ]
  },
  {
   "cell_type": "markdown",
   "metadata": {},
   "source": [
    "#### K-Nearest Neighbors (KNN)"
   ]
  },
  {
   "cell_type": "code",
   "execution_count": 43,
   "metadata": {},
   "outputs": [
    {
     "name": "stdout",
     "output_type": "stream",
     "text": [
      "Grid Search Cross Validation\n",
      "Fitting 10 folds for each of 57 candidates, totalling 570 fits\n"
     ]
    },
    {
     "name": "stderr",
     "output_type": "stream",
     "text": [
      "[Parallel(n_jobs=-1)]: Using backend LokyBackend with 8 concurrent workers.\n",
      "[Parallel(n_jobs=-1)]: Done  34 tasks      | elapsed:    2.0s\n",
      "[Parallel(n_jobs=-1)]: Done 184 tasks      | elapsed:   11.9s\n",
      "[Parallel(n_jobs=-1)]: Done 434 tasks      | elapsed:   24.2s\n"
     ]
    },
    {
     "name": "stdout",
     "output_type": "stream",
     "text": [
      "Best score: -1.524608656733292\n",
      "Best parameters: {'projection': 'passthrough', 'reg__n_neighbors': 8, 'reg__weights': 'distance', 'scaler': MinMaxScaler()}\n"
     ]
    },
    {
     "name": "stderr",
     "output_type": "stream",
     "text": [
      "[Parallel(n_jobs=-1)]: Done 570 out of 570 | elapsed:   32.1s finished\n"
     ]
    }
   ],
   "source": [
    "features = basic_features\n",
    "X = df_train[features].values\n",
    "y = df_train.LST.values\n",
    "\n",
    "print('Grid Search Cross Validation')\n",
    "pipe = Pipeline([('scaler', MinMaxScaler()), ('projection', PCA()), ('reg',  KNeighborsRegressor())])\n",
    "parameters = {'scaler':[MinMaxScaler()], 'projection':['passthrough', PCA(6), PCA()], 'reg__n_neighbors':range(1, 20, 1),  'reg__weights':['distance']}\n",
    "cv = KFold(n_splits=10, shuffle=True, random_state=42)\n",
    "\n",
    "clf = GridSearchCV(estimator=pipe, param_grid=parameters, scoring=make_scorer(mean_absolute_error, greater_is_better=False), cv=cv, verbose=True, n_jobs=-1)\n",
    "clf.fit(X, y)\n",
    "print('Best score:', clf.best_score_)\n",
    "print('Best parameters:', clf.best_params_)\n",
    "\n",
    "best_knn = clf.best_estimator_"
   ]
  },
  {
   "cell_type": "markdown",
   "metadata": {},
   "source": [
    "#### Support Vector Machine (SVM) "
   ]
  },
  {
   "cell_type": "code",
   "execution_count": 44,
   "metadata": {},
   "outputs": [
    {
     "name": "stdout",
     "output_type": "stream",
     "text": [
      "Features: ['lon', 'lat', 'B2', 'B3', 'B4', 'B5', 'B6', 'B7', 'MONTH']\n",
      "Grid Search Cross Validation\n",
      "Fitting 2 folds for each of 81 candidates, totalling 162 fits\n"
     ]
    },
    {
     "name": "stderr",
     "output_type": "stream",
     "text": [
      "[Parallel(n_jobs=-1)]: Using backend LokyBackend with 8 concurrent workers.\n",
      "[Parallel(n_jobs=-1)]: Done  34 tasks      | elapsed:  2.8min\n",
      "C:\\Users\\fabio\\Anaconda3\\lib\\site-packages\\joblib\\externals\\loky\\process_executor.py:706: UserWarning: A worker stopped while some jobs were given to the executor. This can be caused by a too short worker timeout or by a memory leak.\n",
      "  \"timeout or by a memory leak.\", UserWarning\n",
      "[Parallel(n_jobs=-1)]: Done 162 out of 162 | elapsed: 11.8min finished\n"
     ]
    },
    {
     "name": "stdout",
     "output_type": "stream",
     "text": [
      "Best score: -2.2347494047831242\n",
      "Best parameters: {'projection': PCA(), 'reg__C': 2, 'reg__epsilon': 0.1, 'reg__kernel': 'rbf', 'scaler': MinMaxScaler()}\n"
     ]
    }
   ],
   "source": [
    "features = basic_features\n",
    "print('Features:', features)\n",
    "X = df_train[features].values\n",
    "y = df_train.LST.values\n",
    "    \n",
    "print('Grid Search Cross Validation')\n",
    "pipe = Pipeline([('scaler', MinMaxScaler()), ('projection', PCA()), ('reg',  SVR())])\n",
    "parameters = {'scaler':[MinMaxScaler()], 'projection':['passthrough', PCA(6), PCA()], \n",
    "              'reg__kernel':['rbf', 'linear', 'poly'],  'reg__epsilon':[0.1, 0.5, 1], 'reg__C':[0.5, 1, 2]}\n",
    "cv = KFold(n_splits=2, shuffle=True, random_state=42)\n",
    "\n",
    "clf = GridSearchCV(estimator=pipe, param_grid=parameters, scoring=make_scorer(mean_absolute_error, greater_is_better=False), cv=cv, verbose=True, n_jobs=-1)\n",
    "clf.fit(X, y)\n",
    "print('Best score:', clf.best_score_)\n",
    "print('Best parameters:', clf.best_params_)\n",
    "\n",
    "best_svm = clf.best_estimator_"
   ]
  },
  {
   "cell_type": "markdown",
   "metadata": {},
   "source": [
    "#### Multi Layer Perceptron (MLP)"
   ]
  },
  {
   "cell_type": "code",
   "execution_count": 45,
   "metadata": {},
   "outputs": [
    {
     "name": "stdout",
     "output_type": "stream",
     "text": [
      "Features: ['lon', 'lat', 'B2', 'B3', 'B4', 'B5', 'B6', 'B7', 'MONTH', 'SI_B5B6', 'SI_B3B7', 'PV', 'SI_B2B4', 'eps']\n",
      "Grid Search Cross Validation\n",
      "Fitting 2 folds for each of 54 candidates, totalling 108 fits\n"
     ]
    },
    {
     "name": "stderr",
     "output_type": "stream",
     "text": [
      "[Parallel(n_jobs=-1)]: Using backend LokyBackend with 8 concurrent workers.\n",
      "[Parallel(n_jobs=-1)]: Done  34 tasks      | elapsed:  4.6min\n",
      "[Parallel(n_jobs=-1)]: Done 108 out of 108 | elapsed: 14.0min finished\n"
     ]
    },
    {
     "name": "stdout",
     "output_type": "stream",
     "text": [
      "Best score: -1.7160353223825755\n",
      "Best parameters: {'projection': PCA(), 'reg__activation': 'tanh', 'reg__alpha': 0.01, 'reg__learning_rate': 'adaptive', 'reg__learning_rate_init': 0.01, 'reg__max_iter': 600, 'reg__solver': 'sgd', 'scaler': MinMaxScaler()}\n"
     ]
    }
   ],
   "source": [
    "features = features_and_best_indices\n",
    "print('Features:', features)\n",
    "X = df_train[features].values\n",
    "y = df_train.LST.values\n",
    "    \n",
    "print('Grid Search Cross Validation')\n",
    "pipe = Pipeline([('scaler', MinMaxScaler()), ('projection', PCA()), ('reg',  MLPRegressor())])\n",
    "parameters = {'scaler':[MinMaxScaler()], 'projection':['passthrough', PCA(6), PCA()], \n",
    "              'reg__activation':['tanh'], 'reg__solver':['sgd'], 'reg__learning_rate':['adaptive'], \n",
    "              'reg__learning_rate_init':[0.001, 0.005, 0.01], 'reg__max_iter':[400, 600], 'reg__alpha':[0.001, 0.005, 0.01]}\n",
    "cv = KFold(n_splits=2, shuffle=True, random_state=42)\n",
    "\n",
    "clf = GridSearchCV(estimator=pipe, param_grid=parameters, scoring=make_scorer(mean_absolute_error, greater_is_better=False), cv=cv, verbose=True, n_jobs=-1)\n",
    "clf.fit(X, y)\n",
    "print('Best score:', clf.best_score_)\n",
    "print('Best parameters:', clf.best_params_)\n",
    "\n",
    "best_mlp = clf.best_estimator_"
   ]
  },
  {
   "cell_type": "markdown",
   "metadata": {},
   "source": [
    "### 5.3. Model Evaluation\n",
    "Determined the best hyperparameters of our models, we can evaluate their performance with a **10 fold cross validation**. Where possible, in term of execution time, we repeat cross valdiation 10 times."
   ]
  },
  {
   "cell_type": "markdown",
   "metadata": {},
   "source": [
    "#### Decision Tree"
   ]
  },
  {
   "cell_type": "code",
   "execution_count": 46,
   "metadata": {},
   "outputs": [
    {
     "name": "stdout",
     "output_type": "stream",
     "text": [
      "Decision Tree MAE: -1.82496508760302\n"
     ]
    }
   ],
   "source": [
    "features = basic_features\n",
    "X = df_train[features].values\n",
    "y = df_train.LST.values\n",
    "\n",
    "cv = RepeatedKFold(n_splits=10, n_repeats=10, random_state=42)\n",
    "\n",
    "score = cross_val_score(best_tree, X=X, y=y, scoring=make_scorer(mean_absolute_error, greater_is_better=False), cv=cv, n_jobs=-1)\n",
    "# print(score)\n",
    "print('Decision Tree MAE:', score.mean())"
   ]
  },
  {
   "cell_type": "markdown",
   "metadata": {},
   "source": [
    "#### K-Nearest Neighbors (KNN)"
   ]
  },
  {
   "cell_type": "code",
   "execution_count": 47,
   "metadata": {},
   "outputs": [
    {
     "name": "stdout",
     "output_type": "stream",
     "text": [
      "KNN MAE: -1.5263072066533787\n"
     ]
    }
   ],
   "source": [
    "features = basic_features\n",
    "X = df_train[features].values\n",
    "y = df_train.LST.values\n",
    "\n",
    "cv = RepeatedKFold(n_splits=10, n_repeats=10, random_state=42)\n",
    "\n",
    "score = cross_val_score(best_knn, X=X, y=y, scoring=make_scorer(mean_absolute_error, greater_is_better=False), cv=cv, n_jobs=-1)\n",
    "# print(score)\n",
    "print('KNN MAE:', score.mean())"
   ]
  },
  {
   "cell_type": "markdown",
   "metadata": {},
   "source": [
    "#### Support Vector Machine (SVM) "
   ]
  },
  {
   "cell_type": "code",
   "execution_count": 48,
   "metadata": {},
   "outputs": [
    {
     "name": "stdout",
     "output_type": "stream",
     "text": [
      "SVM MAE: -2.147411613290887\n"
     ]
    }
   ],
   "source": [
    "features = basic_features\n",
    "X = df_train[features].values\n",
    "y = df_train.LST.values\n",
    "\n",
    "cv = KFold(n_splits=10, shuffle=True, random_state=42)\n",
    "\n",
    "score = cross_val_score(best_svm, X=X, y=y, scoring=make_scorer(mean_absolute_error, greater_is_better=False), cv=cv, n_jobs=-1)\n",
    "# print(score)\n",
    "print('SVM MAE:', score.mean())"
   ]
  },
  {
   "cell_type": "markdown",
   "metadata": {},
   "source": [
    "#### Multi Layer Perceptron (MLP)"
   ]
  },
  {
   "cell_type": "code",
   "execution_count": 49,
   "metadata": {},
   "outputs": [
    {
     "name": "stdout",
     "output_type": "stream",
     "text": [
      "[-1.6684964  -1.71545694 -1.67078613 -1.65088021 -1.72505171 -1.7083243\n",
      " -1.71272863 -1.77018887 -1.64145003 -1.73083013]\n",
      "MLP MAE: -1.6994193334254184\n"
     ]
    }
   ],
   "source": [
    "features = features_and_best_indices\n",
    "X = df_train[features].values\n",
    "y = df_train.LST.values\n",
    "\n",
    "cv = KFold(n_splits=10, shuffle=True, random_state=42)\n",
    "\n",
    "score = cross_val_score(best_mlp, X=X, y=y, scoring=make_scorer(mean_absolute_error, greater_is_better=False), cv=cv, n_jobs=-1)\n",
    "# print(score)\n",
    "print('MLP MAE:', score.mean())"
   ]
  },
  {
   "cell_type": "markdown",
   "metadata": {},
   "source": [
    "As we can see, hyperparamters tuning significantly improved performance of some models, such as decision tree and MLP. Nevertheless, the best mode is still KNN, so we choose it as final model."
   ]
  },
  {
   "cell_type": "markdown",
   "metadata": {},
   "source": [
    "## 6. Submission\n",
    "We can finally create our submission file. First we train our final model using the whole training set, then we predict the class label for the instances of the (original) test set."
   ]
  },
  {
   "cell_type": "code",
   "execution_count": 50,
   "metadata": {},
   "outputs": [],
   "source": [
    "df_sub = df_test.copy()"
   ]
  },
  {
   "cell_type": "markdown",
   "metadata": {},
   "source": [
    "#### K-Nearest Neighbors (KNN)"
   ]
  },
  {
   "cell_type": "code",
   "execution_count": 51,
   "metadata": {},
   "outputs": [],
   "source": [
    "features = basic_features\n",
    "\n",
    "X_train = df_train[features].values\n",
    "y_train = df_train.LST.values\n",
    "X_test = df_test[features].values\n",
    "\n",
    "best_knn.fit(X_train, y_train)\n",
    "y_test = best_knn.predict(X_test)\n",
    "df_sub['LST'] = y_test"
   ]
  },
  {
   "cell_type": "markdown",
   "metadata": {},
   "source": [
    "We can look at the class distribution of the test instances."
   ]
  },
  {
   "cell_type": "code",
   "execution_count": 52,
   "metadata": {},
   "outputs": [
    {
     "data": {
      "image/png": "[encoded data removed]",
      "text/plain": [
       "<Figure size 360x288 with 1 Axes>"
      ]
     },
     "metadata": {
      "image/png": {
       "height": 263,
       "width": 326
      },
      "needs_background": "light"
     },
     "output_type": "display_data"
    }
   ],
   "source": [
    "df_sub.hist(column=['LST'], figsize=(5,4), grid=False)\n",
    "plt.show()"
   ]
  },
  {
   "cell_type": "code",
   "execution_count": 53,
   "metadata": {},
   "outputs": [],
   "source": [
    "df_sub[['ID', 'LST']].to_csv('submission/sub_knn.csv', index=False)"
   ]
  },
  {
   "cell_type": "markdown",
   "metadata": {},
   "source": [
    "In the private leaderboard of Kaggle's competition we can see that model's MAE is 1.50974, which means that in the previous section we found an accurate estimation."
   ]
  }
 ],
 "metadata": {
  "kernelspec": {
   "display_name": "Python 3",
   "language": "python",
   "name": "python3"
  },
  "language_info": {
   "codemirror_mode": {
    "name": "ipython",
    "version": 3
   },
   "file_extension": ".py",
   "mimetype": "text/x-python",
   "name": "python",
   "nbconvert_exporter": "python",
   "pygments_lexer": "ipython3",
   "version": "3.7.10"
  },
  "toc": {
   "base_numbering": 1,
   "nav_menu": {},
   "number_sections": true,
   "sideBar": true,
   "skip_h1_title": false,
   "title_cell": "Table of Contents",
   "title_sidebar": "Contents",
   "toc_cell": false,
   "toc_position": {},
   "toc_section_display": true,
   "toc_window_display": true
  }
 },
 "nbformat": 4,
 "nbformat_minor": 2
}
